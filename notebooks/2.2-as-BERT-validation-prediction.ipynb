{
 "cells": [
  {
   "cell_type": "markdown",
   "id": "d72892fd",
   "metadata": {},
   "source": [
    "**AIM 5011 - Fall 2021**\n",
    "\n",
    "**Final Project Component - Text-Only Meme Model with BERT (holdout predictions)**\n",
    "\n",
    "**Aishwarya Singh**"
   ]
  },
  {
   "cell_type": "markdown",
   "id": "2f54f80b",
   "metadata": {
    "id": "6a47f856"
   },
   "source": [
    "Preparation:"
   ]
  },
  {
   "cell_type": "code",
   "execution_count": 1,
   "id": "86e5a3e7",
   "metadata": {
    "executionInfo": {
     "elapsed": 2132,
     "status": "ok",
     "timestamp": 1640210671879,
     "user": {
      "displayName": "Aishwarya Singh",
      "photoUrl": "https://lh3.googleusercontent.com/a-/AOh14Ghg0AqsIs_T3nBm5Uq1mbsSTqo9LpnxD7Zxy9tyJQ=s64",
      "userId": "13387679259185669027"
     },
     "user_tz": 300
    },
    "id": "86e5a3e7"
   },
   "outputs": [],
   "source": [
    "import numpy as np\n",
    "import pandas as pd\n",
    "import matplotlib.pyplot as plt\n",
    "import os\n",
    "import re"
   ]
  },
  {
   "cell_type": "code",
   "execution_count": 2,
   "id": "f377d111",
   "metadata": {},
   "outputs": [],
   "source": [
    "repo = os.path.dirname(os.path.abspath(''))\n",
    "#os.environ['CUDA_VISIBLE_DEVICES'] = '-1'"
   ]
  },
  {
   "cell_type": "code",
   "execution_count": 3,
   "id": "63eca66f",
   "metadata": {
    "executionInfo": {
     "elapsed": 4,
     "status": "ok",
     "timestamp": 1640210671880,
     "user": {
      "displayName": "Aishwarya Singh",
      "photoUrl": "https://lh3.googleusercontent.com/a-/AOh14Ghg0AqsIs_T3nBm5Uq1mbsSTqo9LpnxD7Zxy9tyJQ=s64",
      "userId": "13387679259185669027"
     },
     "user_tz": 300
    },
    "id": "63eca66f"
   },
   "outputs": [],
   "source": [
    "from sklearn.model_selection import train_test_split\n",
    "from sklearn.metrics import roc_curve\n",
    "from sklearn.metrics import roc_auc_score\n",
    "from sklearn.metrics import confusion_matrix\n",
    "from sklearn.metrics import ConfusionMatrixDisplay"
   ]
  },
  {
   "cell_type": "code",
   "execution_count": 4,
   "id": "8c37c2c8",
   "metadata": {
    "executionInfo": {
     "elapsed": 7673,
     "status": "ok",
     "timestamp": 1640210766548,
     "user": {
      "displayName": "Aishwarya Singh",
      "photoUrl": "https://lh3.googleusercontent.com/a-/AOh14Ghg0AqsIs_T3nBm5Uq1mbsSTqo9LpnxD7Zxy9tyJQ=s64",
      "userId": "13387679259185669027"
     },
     "user_tz": 300
    },
    "id": "8c37c2c8"
   },
   "outputs": [],
   "source": [
    "import tensorflow as tf\n",
    "import keras as kr\n",
    "import transformers"
   ]
  },
  {
   "cell_type": "code",
   "execution_count": 5,
   "id": "c13fd00a",
   "metadata": {},
   "outputs": [
    {
     "data": {
      "text/plain": [
       "[PhysicalDevice(name='/physical_device:CPU:0', device_type='CPU')]"
      ]
     },
     "execution_count": 5,
     "metadata": {},
     "output_type": "execute_result"
    }
   ],
   "source": [
    "tf.config.list_physical_devices()"
   ]
  },
  {
   "cell_type": "code",
   "execution_count": 6,
   "id": "7016208d",
   "metadata": {
    "executionInfo": {
     "elapsed": 134,
     "status": "ok",
     "timestamp": 1640210772214,
     "user": {
      "displayName": "Aishwarya Singh",
      "photoUrl": "https://lh3.googleusercontent.com/a-/AOh14Ghg0AqsIs_T3nBm5Uq1mbsSTqo9LpnxD7Zxy9tyJQ=s64",
      "userId": "13387679259185669027"
     },
     "user_tz": 300
    },
    "id": "7016208d"
   },
   "outputs": [],
   "source": [
    "from transformers import BertTokenizer, TFBertForSequenceClassification"
   ]
  },
  {
   "cell_type": "code",
   "execution_count": 7,
   "id": "2439861d",
   "metadata": {
    "executionInfo": {
     "elapsed": 160,
     "status": "ok",
     "timestamp": 1640210786322,
     "user": {
      "displayName": "Aishwarya Singh",
      "photoUrl": "https://lh3.googleusercontent.com/a-/AOh14Ghg0AqsIs_T3nBm5Uq1mbsSTqo9LpnxD7Zxy9tyJQ=s64",
      "userId": "13387679259185669027"
     },
     "user_tz": 300
    },
    "id": "2439861d"
   },
   "outputs": [],
   "source": [
    "tf.random.set_seed(0)\n",
    "np.random.seed(0)"
   ]
  },
  {
   "cell_type": "markdown",
   "id": "7501f6dd",
   "metadata": {
    "id": "2aed68d8"
   },
   "source": [
    "------------------------------------------------------------------------------------------"
   ]
  },
  {
   "cell_type": "markdown",
   "id": "29c0501c",
   "metadata": {
    "id": "51800090"
   },
   "source": [
    "Encoder Functions:"
   ]
  },
  {
   "cell_type": "code",
   "execution_count": 8,
   "id": "7fc812fc",
   "metadata": {
    "executionInfo": {
     "elapsed": 148,
     "status": "ok",
     "timestamp": 1640210791784,
     "user": {
      "displayName": "Aishwarya Singh",
      "photoUrl": "https://lh3.googleusercontent.com/a-/AOh14Ghg0AqsIs_T3nBm5Uq1mbsSTqo9LpnxD7Zxy9tyJQ=s64",
      "userId": "13387679259185669027"
     },
     "user_tz": 300
    },
    "id": "7fc812fc"
   },
   "outputs": [],
   "source": [
    "# combine step for tokenization, WordPiece vector mapping, adding special tokens \n",
    "def convert_example_to_feature(review):\n",
    "    return bert_tokenizer.encode_plus(review, \n",
    "                                    add_special_tokens = True,     # add [CLS], [SEP]\n",
    "                                    max_length = 512,              # max length of the text that can go to BERT\n",
    "                                    padding='max_length',\n",
    "                                    truncation=True,\n",
    "                                    return_attention_mask = True,  # add attention mask to not focus on pad tokens\n",
    "                                  )\n",
    "\n",
    "# map to the expected input to TFBertForSequenceClassification\n",
    "def map_example_to_dict(input_ids, attention_masks, token_type_ids, label):\n",
    "    return {\n",
    "              \"input_ids\": input_ids,\n",
    "              \"token_type_ids\": token_type_ids,\n",
    "              \"attention_mask\": attention_masks,\n",
    "          }, label\n",
    "\n",
    "def encode_examples(ds):\n",
    "    # prepare list, so that we can build up final TensorFlow dataset from slices.\n",
    "    input_ids_list = []\n",
    "    token_type_ids_list = []\n",
    "    attention_mask_list = []\n",
    "    label_list = []\n",
    "    for review, label in ds:\n",
    "        bert_input = convert_example_to_feature(review)\n",
    "        input_ids_list.append(bert_input['input_ids'])\n",
    "        token_type_ids_list.append(bert_input['token_type_ids'])\n",
    "        attention_mask_list.append(bert_input['attention_mask'])\n",
    "        label_list.append([label])\n",
    "\n",
    "    return tf.data.Dataset.from_tensor_slices((input_ids_list, attention_mask_list, token_type_ids_list, label_list)).map(map_example_to_dict)"
   ]
  },
  {
   "cell_type": "code",
   "execution_count": 9,
   "id": "40955063",
   "metadata": {},
   "outputs": [],
   "source": [
    "def extract_transform(frame):\n",
    "    new_strings = []\n",
    "    locate_capture = re.compile('description: \"([\\w\\s]*)[\\.\\?!,]*\"[\\n]')\n",
    "    \n",
    "    for i in range(frame.shape[0]):\n",
    "        new_strings.append(' '.join(locate_capture.findall(frame.iloc[i].text)))\n",
    "    \n",
    "    dataset = pd.DataFrame({'id':frame.Name, 'text':new_strings, 'label':frame.hate})\n",
    "    return dataset"
   ]
  },
  {
   "cell_type": "markdown",
   "id": "52777e69",
   "metadata": {
    "id": "59b4bb2c"
   },
   "source": [
    "------------------------------------------------------------------------------------------"
   ]
  },
  {
   "cell_type": "markdown",
   "id": "0d404422",
   "metadata": {
    "id": "f2bcbd71"
   },
   "source": [
    "Data Load:"
   ]
  },
  {
   "cell_type": "code",
   "execution_count": 10,
   "id": "cfc497cb",
   "metadata": {
    "colab": {
     "base_uri": "https://localhost:8080/"
    },
    "executionInfo": {
     "elapsed": 3,
     "status": "ok",
     "timestamp": 1640211605301,
     "user": {
      "displayName": "Aishwarya Singh",
      "photoUrl": "https://lh3.googleusercontent.com/a-/AOh14Ghg0AqsIs_T3nBm5Uq1mbsSTqo9LpnxD7Zxy9tyJQ=s64",
      "userId": "13387679259185669027"
     },
     "user_tz": 300
    },
    "id": "cfc497cb",
    "outputId": "45fb8c99-9ae4-4bc9-e22e-e8f16b6d8962"
   },
   "outputs": [
    {
     "data": {
      "text/plain": [
       "(769, 3)"
      ]
     },
     "execution_count": 10,
     "metadata": {},
     "output_type": "execute_result"
    }
   ],
   "source": [
    "api_memes_raw = pd.read_csv(\"https://raw.githubusercontent.com/codepharmer/AIM-5011-NLP-Final-Project/main/data/processed/google_API_response/our_images_API_response.csv\")\n",
    "\n",
    "api_memes_raw = api_memes_raw[api_memes_raw.text.notna()]\n",
    "    \n",
    "api_memes = extract_transform(api_memes_raw)\n",
    "\n",
    "api_memes.shape"
   ]
  },
  {
   "cell_type": "code",
   "execution_count": 11,
   "id": "115a9c4e",
   "metadata": {},
   "outputs": [
    {
     "data": {
      "text/html": [
       "<div>\n",
       "<style scoped>\n",
       "    .dataframe tbody tr th:only-of-type {\n",
       "        vertical-align: middle;\n",
       "    }\n",
       "\n",
       "    .dataframe tbody tr th {\n",
       "        vertical-align: top;\n",
       "    }\n",
       "\n",
       "    .dataframe thead th {\n",
       "        text-align: right;\n",
       "    }\n",
       "</style>\n",
       "<table border=\"1\" class=\"dataframe\">\n",
       "  <thead>\n",
       "    <tr style=\"text-align: right;\">\n",
       "      <th></th>\n",
       "      <th>id</th>\n",
       "      <th>text</th>\n",
       "      <th>label</th>\n",
       "    </tr>\n",
       "  </thead>\n",
       "  <tbody>\n",
       "    <tr>\n",
       "      <th>0</th>\n",
       "      <td>10246724_747008182064474_2873398654888745189_n...</td>\n",
       "      <td>DONALD DUCK TEACHING SUBLIMINAL MESSAGES TO YO...</td>\n",
       "      <td>1</td>\n",
       "    </tr>\n",
       "    <tr>\n",
       "      <th>1</th>\n",
       "      <td>obama-meme.jpg</td>\n",
       "      <td>Sorry it took so long to get you a copy of my ...</td>\n",
       "      <td>1</td>\n",
       "    </tr>\n",
       "    <tr>\n",
       "      <th>2</th>\n",
       "      <td>alldone.png</td>\n",
       "      <td>YOU SLANDERED DEGRADED AND HUMILIATED ME IN FR...</td>\n",
       "      <td>1</td>\n",
       "    </tr>\n",
       "    <tr>\n",
       "      <th>3</th>\n",
       "      <td>brown.png</td>\n",
       "      <td>IF ITS YELLOW LET IT MELLOW IF BROWN FLUSH IT ...</td>\n",
       "      <td>1</td>\n",
       "    </tr>\n",
       "    <tr>\n",
       "      <th>4</th>\n",
       "      <td>patriots.png</td>\n",
       "      <td>In 2016 the American public realized that thei...</td>\n",
       "      <td>1</td>\n",
       "    </tr>\n",
       "    <tr>\n",
       "      <th>...</th>\n",
       "      <td>...</td>\n",
       "      <td>...</td>\n",
       "      <td>...</td>\n",
       "    </tr>\n",
       "    <tr>\n",
       "      <th>883</th>\n",
       "      <td>389ae57e1c001ec78fc84a56eb86060b.jpeg</td>\n",
       "      <td>THN BLACK FAST my sympathies are BLACK BLACK B...</td>\n",
       "      <td>1</td>\n",
       "    </tr>\n",
       "    <tr>\n",
       "      <th>884</th>\n",
       "      <td>421ba6b590f60e8ca14b864ef62b0937.jpeg</td>\n",
       "      <td>I WAS GOING TO SMOKE A JOINT WITH SOME MEXICAN...</td>\n",
       "      <td>1</td>\n",
       "    </tr>\n",
       "    <tr>\n",
       "      <th>885</th>\n",
       "      <td>8b0692fbb7b694714d9469223c3a365b.jpeg</td>\n",
       "      <td>Hispanic girliriends be like 02582 the last th...</td>\n",
       "      <td>1</td>\n",
       "    </tr>\n",
       "    <tr>\n",
       "      <th>886</th>\n",
       "      <td>3296e4cea44ab2cd64470be83d474b20.jpeg</td>\n",
       "      <td>My transgender friend keeps talking about suic...</td>\n",
       "      <td>1</td>\n",
       "    </tr>\n",
       "    <tr>\n",
       "      <th>887</th>\n",
       "      <td>joy.png</td>\n",
       "      <td>GOD HATES FAGS KAA</td>\n",
       "      <td>1</td>\n",
       "    </tr>\n",
       "  </tbody>\n",
       "</table>\n",
       "<p>769 rows × 3 columns</p>\n",
       "</div>"
      ],
      "text/plain": [
       "                                                    id  \\\n",
       "0    10246724_747008182064474_2873398654888745189_n...   \n",
       "1                                       obama-meme.jpg   \n",
       "2                                          alldone.png   \n",
       "3                                            brown.png   \n",
       "4                                         patriots.png   \n",
       "..                                                 ...   \n",
       "883              389ae57e1c001ec78fc84a56eb86060b.jpeg   \n",
       "884              421ba6b590f60e8ca14b864ef62b0937.jpeg   \n",
       "885              8b0692fbb7b694714d9469223c3a365b.jpeg   \n",
       "886              3296e4cea44ab2cd64470be83d474b20.jpeg   \n",
       "887                                            joy.png   \n",
       "\n",
       "                                                  text  label  \n",
       "0    DONALD DUCK TEACHING SUBLIMINAL MESSAGES TO YO...      1  \n",
       "1    Sorry it took so long to get you a copy of my ...      1  \n",
       "2    YOU SLANDERED DEGRADED AND HUMILIATED ME IN FR...      1  \n",
       "3    IF ITS YELLOW LET IT MELLOW IF BROWN FLUSH IT ...      1  \n",
       "4    In 2016 the American public realized that thei...      1  \n",
       "..                                                 ...    ...  \n",
       "883  THN BLACK FAST my sympathies are BLACK BLACK B...      1  \n",
       "884  I WAS GOING TO SMOKE A JOINT WITH SOME MEXICAN...      1  \n",
       "885  Hispanic girliriends be like 02582 the last th...      1  \n",
       "886  My transgender friend keeps talking about suic...      1  \n",
       "887                                 GOD HATES FAGS KAA      1  \n",
       "\n",
       "[769 rows x 3 columns]"
      ]
     },
     "execution_count": 11,
     "metadata": {},
     "output_type": "execute_result"
    }
   ],
   "source": [
    "api_memes"
   ]
  },
  {
   "cell_type": "code",
   "execution_count": 12,
   "id": "70e0823e",
   "metadata": {},
   "outputs": [
    {
     "data": {
      "text/plain": [
       "'NOT DOING THIS UNTIL SOMEBODY GETS ME A BOOSTER SEAT'"
      ]
     },
     "execution_count": 12,
     "metadata": {},
     "output_type": "execute_result"
    }
   ],
   "source": [
    "api_memes.iloc[666].text"
   ]
  },
  {
   "cell_type": "code",
   "execution_count": 13,
   "id": "2171702d",
   "metadata": {},
   "outputs": [
    {
     "data": {
      "text/plain": [
       "68"
      ]
     },
     "execution_count": 13,
     "metadata": {},
     "output_type": "execute_result"
    }
   ],
   "source": [
    "api_memes.label.sum()"
   ]
  },
  {
   "cell_type": "markdown",
   "id": "71174a10",
   "metadata": {
    "id": "a2f3321f"
   },
   "source": [
    "------------------------------------------------------------------------------------------"
   ]
  },
  {
   "cell_type": "markdown",
   "id": "b3da8fca",
   "metadata": {
    "id": "2073486f"
   },
   "source": [
    "Model Setup:"
   ]
  },
  {
   "cell_type": "code",
   "execution_count": 14,
   "id": "114eb0e0",
   "metadata": {
    "executionInfo": {
     "elapsed": 166,
     "status": "ok",
     "timestamp": 1640211615984,
     "user": {
      "displayName": "Aishwarya Singh",
      "photoUrl": "https://lh3.googleusercontent.com/a-/AOh14Ghg0AqsIs_T3nBm5Uq1mbsSTqo9LpnxD7Zxy9tyJQ=s64",
      "userId": "13387679259185669027"
     },
     "user_tz": 300
    },
    "id": "114eb0e0"
   },
   "outputs": [],
   "source": [
    "X_all = np.array(api_memes.text)\n",
    "y_all = np.array(api_memes.label)"
   ]
  },
  {
   "cell_type": "code",
   "execution_count": 15,
   "id": "1c669cce",
   "metadata": {
    "colab": {
     "base_uri": "https://localhost:8080/",
     "height": 145,
     "referenced_widgets": [
      "7f5fb31ea2014f58b41c426b7c8662f4",
      "db65a5fd661446ff90df933f5933eead",
      "57358d9cd8784dc8b323ec3f3e037f73",
      "5da95484bfde4829a86c4d41233fed0e",
      "c9e83416e6ec4de5af22ed16e555cd1c",
      "a58290f9c2f043d3b4026c4ea882160d",
      "52ab205f720d49a4aba963a8074d52dc",
      "1226284149234662b0a10934f6866c93",
      "065740908f474ba3828a8695c05aeaec",
      "51703e6dd4984ba1a28164ef3e3e7a85",
      "1f39e8440dd94b0c88a4149d22044440",
      "5ccbdf3b2e7545ac84c79e1032309a8a",
      "043b89eb59e747829cbe5aed5f7f7a4a",
      "a2fc998883f747e8999310f0aab98c99",
      "0863fd92d78a4a80aa8601d7b4508d45",
      "daa443934687433f9244ece112c5aa70",
      "5189fb56da394f0fabc159fe136ed39a",
      "fbe7793d2c6f4eb78dd5b3de2a48674b",
      "f0b720bf306b4e1480daa790772429f8",
      "f0d67ca36d5d4e9abdc86010b53ca147",
      "d1f01c0107ba40f9b2e2927577ccf3cc",
      "c596f0a78cd24815bc45fd4dd69d66f5",
      "209009ba4880480d861d099a22a8d2f8",
      "a4a918fa7f514d0f9bed08fe72186a39",
      "6672f1c4990e487c95231f476f2a5eb0",
      "93e34a6c069244f49308b7dcb135fc2e",
      "2a3e8eeef72548de966481b6149374e4",
      "592f6e9eb5694d6c8d6c02a66eb66779",
      "e069658abffb419abdba0e167d566bfd",
      "daf2c3448e5b4c38bf0f756506ce69de",
      "e8415daad40041a18a9db96c9208efad",
      "f9ddad1eb71440a28656d82d5a9c0570",
      "f80cfafa2a224cf9a6a4d7f44f728462",
      "8b161101ac0c4503a3edce0161062dd6",
      "ee75893adec442ae841d0fd00d717463",
      "4f618bf4b2ef4a2281f8842a22d7bc77",
      "64955511380d4fe58c9cd1a03e3bac8b",
      "11cb7e0597cd4e30a36d58536433575b",
      "c9c7e4bc2c424a2e8406b727bf30c17e",
      "19f72495798d41f9b2c69e620810da83",
      "062125208ae34d739feebbb25976e727",
      "eae6dac8c1c7473f96482b14c1248db2",
      "a3f0d564bd7f4e10bf56c42af5a89a5f",
      "082848953b5b441788772911766d01b9"
     ]
    },
    "executionInfo": {
     "elapsed": 1998,
     "status": "ok",
     "timestamp": 1640211619121,
     "user": {
      "displayName": "Aishwarya Singh",
      "photoUrl": "https://lh3.googleusercontent.com/a-/AOh14Ghg0AqsIs_T3nBm5Uq1mbsSTqo9LpnxD7Zxy9tyJQ=s64",
      "userId": "13387679259185669027"
     },
     "user_tz": 300
    },
    "id": "1c669cce",
    "outputId": "14c7fa1f-83eb-4ef3-a816-76745bce84a8"
   },
   "outputs": [],
   "source": [
    "num_classes = 2\n",
    "\n",
    "bert_tokenizer = BertTokenizer.from_pretrained(\"bert-base-uncased\", do_lower_case = True)"
   ]
  },
  {
   "cell_type": "code",
   "execution_count": 16,
   "id": "90cb2969",
   "metadata": {
    "executionInfo": {
     "elapsed": 194,
     "status": "ok",
     "timestamp": 1640211625584,
     "user": {
      "displayName": "Aishwarya Singh",
      "photoUrl": "https://lh3.googleusercontent.com/a-/AOh14Ghg0AqsIs_T3nBm5Uq1mbsSTqo9LpnxD7Zxy9tyJQ=s64",
      "userId": "13387679259185669027"
     },
     "user_tz": 300
    },
    "id": "90cb2969"
   },
   "outputs": [],
   "source": [
    "# hyper-parameters\n",
    "batch_size = 2\n",
    "\n",
    "# recommended learning rate for Adam 5e-5, 3e-5, 2e-5\n",
    "learning_rate = 1e-5\n",
    "\n",
    "# multiple epochs might be better as long as we will not overfit the model\n",
    "number_of_epochs = 2"
   ]
  },
  {
   "cell_type": "code",
   "execution_count": 17,
   "id": "2ea4128e",
   "metadata": {
    "executionInfo": {
     "elapsed": 4528,
     "status": "ok",
     "timestamp": 1640211634907,
     "user": {
      "displayName": "Aishwarya Singh",
      "photoUrl": "https://lh3.googleusercontent.com/a-/AOh14Ghg0AqsIs_T3nBm5Uq1mbsSTqo9LpnxD7Zxy9tyJQ=s64",
      "userId": "13387679259185669027"
     },
     "user_tz": 300
    },
    "id": "2ea4128e"
   },
   "outputs": [],
   "source": [
    "# encode dataset\n",
    "ds_all = zip(X_all, y_all)\n",
    "\n",
    "ds_all_encoded = encode_examples(ds_all).shuffle(len(X_all)).batch(batch_size)"
   ]
  },
  {
   "cell_type": "code",
   "execution_count": 18,
   "id": "4dea8175",
   "metadata": {
    "colab": {
     "base_uri": "https://localhost:8080/",
     "height": 378,
     "referenced_widgets": [
      "917127b4560b46de98f72f13eb19cded",
      "34cfedf3dbd843a2af448f6cc07f540f",
      "6f98a4c517f5400bb36f8d44b0e3bc44",
      "1b81b76f91084523bb5f582a1d532e23",
      "e0f385a45d1c414f813131c96de19549",
      "9df02c7ca233481db7cba24686cbedc5",
      "da7ff4b970424a5b9c9eb015de2b688c",
      "ff33a4520b224ec29571558206271be0",
      "a318f78259eb4513923c9861d411d720",
      "1f1d860b60de4cf3ba071333afc7b9d8",
      "6010f0056e35466194346a138c01ec38"
     ]
    },
    "executionInfo": {
     "elapsed": 20056,
     "status": "ok",
     "timestamp": 1640211657487,
     "user": {
      "displayName": "Aishwarya Singh",
      "photoUrl": "https://lh3.googleusercontent.com/a-/AOh14Ghg0AqsIs_T3nBm5Uq1mbsSTqo9LpnxD7Zxy9tyJQ=s64",
      "userId": "13387679259185669027"
     },
     "user_tz": 300
    },
    "id": "4dea8175",
    "outputId": "d64ea57b-8272-4969-8d29-70ec455ed5aa"
   },
   "outputs": [
    {
     "name": "stderr",
     "output_type": "stream",
     "text": [
      "All model checkpoint layers were used when initializing TFBertForSequenceClassification.\n",
      "\n",
      "Some layers of TFBertForSequenceClassification were not initialized from the model checkpoint at bert-base-uncased and are newly initialized: ['classifier']\n",
      "You should probably TRAIN this model on a down-stream task to be able to use it for predictions and inference.\n"
     ]
    },
    {
     "name": "stdout",
     "output_type": "stream",
     "text": [
      "Model: \"tf_bert_for_sequence_classification\"\n",
      "_________________________________________________________________\n",
      " Layer (type)                Output Shape              Param #   \n",
      "=================================================================\n",
      " bert (TFBertMainLayer)      multiple                  109482240 \n",
      "                                                                 \n",
      " dropout_37 (Dropout)        multiple                  0         \n",
      "                                                                 \n",
      " classifier (Dense)          multiple                  1538      \n",
      "                                                                 \n",
      "=================================================================\n",
      "Total params: 109,483,778\n",
      "Trainable params: 109,483,778\n",
      "Non-trainable params: 0\n",
      "_________________________________________________________________\n"
     ]
    }
   ],
   "source": [
    "## Initialize pre-built BERT-based classifier from transformers\n",
    "bert_model = TFBertForSequenceClassification.from_pretrained('bert-base-uncased', num_labels = num_classes)\n",
    "\n",
    "#bert_model.layers[0].trainable = False\n",
    "\n",
    "bert_model.summary()"
   ]
  },
  {
   "cell_type": "code",
   "execution_count": 19,
   "id": "7ddc9a52",
   "metadata": {
    "executionInfo": {
     "elapsed": 154,
     "status": "ok",
     "timestamp": 1640211663118,
     "user": {
      "displayName": "Aishwarya Singh",
      "photoUrl": "https://lh3.googleusercontent.com/a-/AOh14Ghg0AqsIs_T3nBm5Uq1mbsSTqo9LpnxD7Zxy9tyJQ=s64",
      "userId": "13387679259185669027"
     },
     "user_tz": 300
    },
    "id": "7ddc9a52"
   },
   "outputs": [],
   "source": [
    "# choosing Adam optimizer\n",
    "optimizer = tf.keras.optimizers.Adam(learning_rate = learning_rate, epsilon = 1e-08)\n",
    "\n",
    "# we do not have one-hot vectors, we can use sparse categorical cross entropy and accuracy\n",
    "loss = tf.keras.losses.SparseCategoricalCrossentropy(from_logits = True)\n",
    "metric = tf.keras.metrics.SparseCategoricalAccuracy('accuracy')\n",
    "\n",
    "bert_model.compile(loss = loss,\n",
    "                   optimizer = optimizer,\n",
    "                   metrics = metric)"
   ]
  },
  {
   "cell_type": "markdown",
   "id": "f4418491",
   "metadata": {
    "id": "be0b7a1d"
   },
   "source": [
    "Prediction & Evaluation - Model 1:"
   ]
  },
  {
   "cell_type": "code",
   "execution_count": 20,
   "id": "6b10d41d",
   "metadata": {
    "colab": {
     "base_uri": "https://localhost:8080/"
    },
    "executionInfo": {
     "elapsed": 18852814,
     "status": "ok",
     "timestamp": 1640230532397,
     "user": {
      "displayName": "Aishwarya Singh",
      "photoUrl": "https://lh3.googleusercontent.com/a-/AOh14Ghg0AqsIs_T3nBm5Uq1mbsSTqo9LpnxD7Zxy9tyJQ=s64",
      "userId": "13387679259185669027"
     },
     "user_tz": 300
    },
    "id": "6b10d41d",
    "outputId": "98b5fd14-91a6-485e-dd6a-a14ee9f576fb"
   },
   "outputs": [],
   "source": [
    "bert_model.load_weights(os.path.join(repo, \"models\", \"BERTs\", \"megabert.h5\"))"
   ]
  },
  {
   "cell_type": "code",
   "execution_count": 21,
   "id": "ZGbVytOGXO2q",
   "metadata": {
    "executionInfo": {
     "elapsed": 1416639,
     "status": "ok",
     "timestamp": 1640232183920,
     "user": {
      "displayName": "Aishwarya Singh",
      "photoUrl": "https://lh3.googleusercontent.com/a-/AOh14Ghg0AqsIs_T3nBm5Uq1mbsSTqo9LpnxD7Zxy9tyJQ=s64",
      "userId": "13387679259185669027"
     },
     "user_tz": 300
    },
    "id": "ZGbVytOGXO2q"
   },
   "outputs": [],
   "source": [
    "y_all_pred = bert_model.predict(ds_all_encoded,\n",
    "                                batch_size = batch_size)\n",
    "\n",
    "y_all_pred_label = y_all_pred[0].argmax(axis = 1)"
   ]
  },
  {
   "cell_type": "code",
   "execution_count": 22,
   "id": "TC_BWpr5XSmp",
   "metadata": {
    "colab": {
     "base_uri": "https://localhost:8080/",
     "height": 296
    },
    "executionInfo": {
     "elapsed": 473,
     "status": "ok",
     "timestamp": 1640232192786,
     "user": {
      "displayName": "Aishwarya Singh",
      "photoUrl": "https://lh3.googleusercontent.com/a-/AOh14Ghg0AqsIs_T3nBm5Uq1mbsSTqo9LpnxD7Zxy9tyJQ=s64",
      "userId": "13387679259185669027"
     },
     "user_tz": 300
    },
    "id": "TC_BWpr5XSmp",
    "outputId": "216fcb6f-25ac-42bf-9086-cb4de0e037e9"
   },
   "outputs": [
    {
     "name": "stdout",
     "output_type": "stream",
     "text": [
      "Whole Dataset Confusion Matrix:\n"
     ]
    },
    {
     "data": {
      "image/png": "[encoded data removed]",
      "text/plain": [
       "<Figure size 432x288 with 2 Axes>"
      ]
     },
     "metadata": {
      "needs_background": "light"
     },
     "output_type": "display_data"
    }
   ],
   "source": [
    "print(\"Validation Dataset Confusion Matrix:\")\n",
    "figure = ConfusionMatrixDisplay(confusion_matrix(y_all, y_all_pred_label))\n",
    "figure.plot()\n",
    "plt.show()"
   ]
  },
  {
   "cell_type": "raw",
   "id": "70fa65a5",
   "metadata": {
    "colab": {
     "base_uri": "https://localhost:8080/"
    },
    "executionInfo": {
     "elapsed": 194,
     "status": "ok",
     "timestamp": 1640242201160,
     "user": {
      "displayName": "Aishwarya Singh",
      "photoUrl": "https://lh3.googleusercontent.com/a-/AOh14Ghg0AqsIs_T3nBm5Uq1mbsSTqo9LpnxD7Zxy9tyJQ=s64",
      "userId": "13387679259185669027"
     },
     "user_tz": 300
    },
    "id": "JkbylBmPDa3A",
    "outputId": "e6acf6c3-910d-44aa-de8b-15bc1f48ed05"
   },
   "source": [
    "roc_auc_score(y_all, y_all_pred_label)"
   ]
  },
  {
   "cell_type": "code",
   "execution_count": 24,
   "id": "Y1HwwqKRxwrh",
   "metadata": {
    "colab": {
     "base_uri": "https://localhost:8080/",
     "height": 423
    },
    "executionInfo": {
     "elapsed": 415,
     "status": "ok",
     "timestamp": 1640242459220,
     "user": {
      "displayName": "Aishwarya Singh",
      "photoUrl": "https://lh3.googleusercontent.com/a-/AOh14Ghg0AqsIs_T3nBm5Uq1mbsSTqo9LpnxD7Zxy9tyJQ=s64",
      "userId": "13387679259185669027"
     },
     "user_tz": 300
    },
    "id": "Y1HwwqKRxwrh",
    "outputId": "36ab3a19-d5c3-45a2-db97-ca3d06d72a88"
   },
   "outputs": [
    {
     "data": {
      "text/html": [
       "<div>\n",
       "<style scoped>\n",
       "    .dataframe tbody tr th:only-of-type {\n",
       "        vertical-align: middle;\n",
       "    }\n",
       "\n",
       "    .dataframe tbody tr th {\n",
       "        vertical-align: top;\n",
       "    }\n",
       "\n",
       "    .dataframe thead th {\n",
       "        text-align: right;\n",
       "    }\n",
       "</style>\n",
       "<table border=\"1\" class=\"dataframe\">\n",
       "  <thead>\n",
       "    <tr style=\"text-align: right;\">\n",
       "      <th></th>\n",
       "      <th>id</th>\n",
       "      <th>text</th>\n",
       "      <th>label</th>\n",
       "      <th>prediction</th>\n",
       "    </tr>\n",
       "  </thead>\n",
       "  <tbody>\n",
       "    <tr>\n",
       "      <th>0</th>\n",
       "      <td>10246724_747008182064474_2873398654888745189_n...</td>\n",
       "      <td>DONALD DUCK TEACHING SUBLIMINAL MESSAGES TO YO...</td>\n",
       "      <td>1</td>\n",
       "      <td>0</td>\n",
       "    </tr>\n",
       "    <tr>\n",
       "      <th>1</th>\n",
       "      <td>obama-meme.jpg</td>\n",
       "      <td>Sorry it took so long to get you a copy of my ...</td>\n",
       "      <td>1</td>\n",
       "      <td>0</td>\n",
       "    </tr>\n",
       "    <tr>\n",
       "      <th>2</th>\n",
       "      <td>alldone.png</td>\n",
       "      <td>YOU SLANDERED DEGRADED AND HUMILIATED ME IN FR...</td>\n",
       "      <td>1</td>\n",
       "      <td>0</td>\n",
       "    </tr>\n",
       "    <tr>\n",
       "      <th>3</th>\n",
       "      <td>brown.png</td>\n",
       "      <td>IF ITS YELLOW LET IT MELLOW IF BROWN FLUSH IT ...</td>\n",
       "      <td>1</td>\n",
       "      <td>0</td>\n",
       "    </tr>\n",
       "    <tr>\n",
       "      <th>4</th>\n",
       "      <td>patriots.png</td>\n",
       "      <td>In 2016 the American public realized that thei...</td>\n",
       "      <td>1</td>\n",
       "      <td>0</td>\n",
       "    </tr>\n",
       "    <tr>\n",
       "      <th>...</th>\n",
       "      <td>...</td>\n",
       "      <td>...</td>\n",
       "      <td>...</td>\n",
       "      <td>...</td>\n",
       "    </tr>\n",
       "    <tr>\n",
       "      <th>883</th>\n",
       "      <td>389ae57e1c001ec78fc84a56eb86060b.jpeg</td>\n",
       "      <td>THN BLACK FAST my sympathies are BLACK BLACK B...</td>\n",
       "      <td>1</td>\n",
       "      <td>0</td>\n",
       "    </tr>\n",
       "    <tr>\n",
       "      <th>884</th>\n",
       "      <td>421ba6b590f60e8ca14b864ef62b0937.jpeg</td>\n",
       "      <td>I WAS GOING TO SMOKE A JOINT WITH SOME MEXICAN...</td>\n",
       "      <td>1</td>\n",
       "      <td>1</td>\n",
       "    </tr>\n",
       "    <tr>\n",
       "      <th>885</th>\n",
       "      <td>8b0692fbb7b694714d9469223c3a365b.jpeg</td>\n",
       "      <td>Hispanic girliriends be like 02582 the last th...</td>\n",
       "      <td>1</td>\n",
       "      <td>0</td>\n",
       "    </tr>\n",
       "    <tr>\n",
       "      <th>886</th>\n",
       "      <td>3296e4cea44ab2cd64470be83d474b20.jpeg</td>\n",
       "      <td>My transgender friend keeps talking about suic...</td>\n",
       "      <td>1</td>\n",
       "      <td>0</td>\n",
       "    </tr>\n",
       "    <tr>\n",
       "      <th>887</th>\n",
       "      <td>joy.png</td>\n",
       "      <td>GOD HATES FAGS KAA</td>\n",
       "      <td>1</td>\n",
       "      <td>0</td>\n",
       "    </tr>\n",
       "  </tbody>\n",
       "</table>\n",
       "<p>769 rows × 4 columns</p>\n",
       "</div>"
      ],
      "text/plain": [
       "                                                    id  \\\n",
       "0    10246724_747008182064474_2873398654888745189_n...   \n",
       "1                                       obama-meme.jpg   \n",
       "2                                          alldone.png   \n",
       "3                                            brown.png   \n",
       "4                                         patriots.png   \n",
       "..                                                 ...   \n",
       "883              389ae57e1c001ec78fc84a56eb86060b.jpeg   \n",
       "884              421ba6b590f60e8ca14b864ef62b0937.jpeg   \n",
       "885              8b0692fbb7b694714d9469223c3a365b.jpeg   \n",
       "886              3296e4cea44ab2cd64470be83d474b20.jpeg   \n",
       "887                                            joy.png   \n",
       "\n",
       "                                                  text  label  prediction  \n",
       "0    DONALD DUCK TEACHING SUBLIMINAL MESSAGES TO YO...      1           0  \n",
       "1    Sorry it took so long to get you a copy of my ...      1           0  \n",
       "2    YOU SLANDERED DEGRADED AND HUMILIATED ME IN FR...      1           0  \n",
       "3    IF ITS YELLOW LET IT MELLOW IF BROWN FLUSH IT ...      1           0  \n",
       "4    In 2016 the American public realized that thei...      1           0  \n",
       "..                                                 ...    ...         ...  \n",
       "883  THN BLACK FAST my sympathies are BLACK BLACK B...      1           0  \n",
       "884  I WAS GOING TO SMOKE A JOINT WITH SOME MEXICAN...      1           1  \n",
       "885  Hispanic girliriends be like 02582 the last th...      1           0  \n",
       "886  My transgender friend keeps talking about suic...      1           0  \n",
       "887                                 GOD HATES FAGS KAA      1           0  \n",
       "\n",
       "[769 rows x 4 columns]"
      ]
     },
     "execution_count": 24,
     "metadata": {},
     "output_type": "execute_result"
    }
   ],
   "source": [
    "meme_text_outs = api_memes.copy()\n",
    "\n",
    "meme_text_outs.insert(3, 'prediction', y_all_pred_label)\n",
    "\n",
    "meme_text_outs"
   ]
  },
  {
   "cell_type": "code",
   "execution_count": 25,
   "id": "eJeKt2WTx4Aj",
   "metadata": {
    "executionInfo": {
     "elapsed": 168,
     "status": "ok",
     "timestamp": 1640242482018,
     "user": {
      "displayName": "Aishwarya Singh",
      "photoUrl": "https://lh3.googleusercontent.com/a-/AOh14Ghg0AqsIs_T3nBm5Uq1mbsSTqo9LpnxD7Zxy9tyJQ=s64",
      "userId": "13387679259185669027"
     },
     "user_tz": 300
    },
    "id": "eJeKt2WTx4Aj"
   },
   "outputs": [],
   "source": [
    "meme_text_outs.to_csv(os.path.join(repo, \"data\", \"processed\", \"big_bert_validation_predictions.csv\"))"
   ]
  },
  {
   "cell_type": "markdown",
   "id": "1c0189cd",
   "metadata": {
    "id": "7f627dc2"
   },
   "source": [
    "------------------------------------------------------------------------------------------"
   ]
  },
  {
   "cell_type": "markdown",
   "id": "31a98eac",
   "metadata": {},
   "source": [
    "Prediction & Evaluation - Model 2:"
   ]
  },
  {
   "cell_type": "code",
   "execution_count": 26,
   "id": "a1a7fff1",
   "metadata": {},
   "outputs": [],
   "source": [
    "bert_model.load_weights(os.path.join(repo, \"models\", \"BERTs\", \"megabert_st.h5\"))"
   ]
  },
  {
   "cell_type": "code",
   "execution_count": 27,
   "id": "16e71062",
   "metadata": {},
   "outputs": [],
   "source": [
    "y_all_pred = bert_model.predict(ds_all_encoded,\n",
    "                                batch_size = batch_size)\n",
    "\n",
    "y_all_pred_label = y_all_pred[0].argmax(axis = 1)"
   ]
  },
  {
   "cell_type": "code",
   "execution_count": 28,
   "id": "8fd0ca2b",
   "metadata": {},
   "outputs": [
    {
     "name": "stdout",
     "output_type": "stream",
     "text": [
      "Validation Dataset Confusion Matrix:\n"
     ]
    },
    {
     "data": {
      "image/png": "[encoded data removed]",
      "text/plain": [
       "<Figure size 432x288 with 2 Axes>"
      ]
     },
     "metadata": {
      "needs_background": "light"
     },
     "output_type": "display_data"
    }
   ],
   "source": [
    "print(\"Validation Dataset Confusion Matrix:\")\n",
    "figure = ConfusionMatrixDisplay(confusion_matrix(y_all, y_all_pred_label))\n",
    "figure.plot()\n",
    "plt.show()"
   ]
  },
  {
   "cell_type": "raw",
   "id": "3a88ff63",
   "metadata": {},
   "source": [
    "roc_auc_score(y_all, y_all_pred_label)"
   ]
  },
  {
   "cell_type": "code",
   "execution_count": 30,
   "id": "d2596b01",
   "metadata": {},
   "outputs": [
    {
     "data": {
      "text/html": [
       "<div>\n",
       "<style scoped>\n",
       "    .dataframe tbody tr th:only-of-type {\n",
       "        vertical-align: middle;\n",
       "    }\n",
       "\n",
       "    .dataframe tbody tr th {\n",
       "        vertical-align: top;\n",
       "    }\n",
       "\n",
       "    .dataframe thead th {\n",
       "        text-align: right;\n",
       "    }\n",
       "</style>\n",
       "<table border=\"1\" class=\"dataframe\">\n",
       "  <thead>\n",
       "    <tr style=\"text-align: right;\">\n",
       "      <th></th>\n",
       "      <th>id</th>\n",
       "      <th>text</th>\n",
       "      <th>label</th>\n",
       "      <th>prediction</th>\n",
       "    </tr>\n",
       "  </thead>\n",
       "  <tbody>\n",
       "    <tr>\n",
       "      <th>0</th>\n",
       "      <td>10246724_747008182064474_2873398654888745189_n...</td>\n",
       "      <td>DONALD DUCK TEACHING SUBLIMINAL MESSAGES TO YO...</td>\n",
       "      <td>1</td>\n",
       "      <td>0</td>\n",
       "    </tr>\n",
       "    <tr>\n",
       "      <th>1</th>\n",
       "      <td>obama-meme.jpg</td>\n",
       "      <td>Sorry it took so long to get you a copy of my ...</td>\n",
       "      <td>1</td>\n",
       "      <td>0</td>\n",
       "    </tr>\n",
       "    <tr>\n",
       "      <th>2</th>\n",
       "      <td>alldone.png</td>\n",
       "      <td>YOU SLANDERED DEGRADED AND HUMILIATED ME IN FR...</td>\n",
       "      <td>1</td>\n",
       "      <td>0</td>\n",
       "    </tr>\n",
       "    <tr>\n",
       "      <th>3</th>\n",
       "      <td>brown.png</td>\n",
       "      <td>IF ITS YELLOW LET IT MELLOW IF BROWN FLUSH IT ...</td>\n",
       "      <td>1</td>\n",
       "      <td>0</td>\n",
       "    </tr>\n",
       "    <tr>\n",
       "      <th>4</th>\n",
       "      <td>patriots.png</td>\n",
       "      <td>In 2016 the American public realized that thei...</td>\n",
       "      <td>1</td>\n",
       "      <td>1</td>\n",
       "    </tr>\n",
       "    <tr>\n",
       "      <th>...</th>\n",
       "      <td>...</td>\n",
       "      <td>...</td>\n",
       "      <td>...</td>\n",
       "      <td>...</td>\n",
       "    </tr>\n",
       "    <tr>\n",
       "      <th>883</th>\n",
       "      <td>389ae57e1c001ec78fc84a56eb86060b.jpeg</td>\n",
       "      <td>THN BLACK FAST my sympathies are BLACK BLACK B...</td>\n",
       "      <td>1</td>\n",
       "      <td>0</td>\n",
       "    </tr>\n",
       "    <tr>\n",
       "      <th>884</th>\n",
       "      <td>421ba6b590f60e8ca14b864ef62b0937.jpeg</td>\n",
       "      <td>I WAS GOING TO SMOKE A JOINT WITH SOME MEXICAN...</td>\n",
       "      <td>1</td>\n",
       "      <td>0</td>\n",
       "    </tr>\n",
       "    <tr>\n",
       "      <th>885</th>\n",
       "      <td>8b0692fbb7b694714d9469223c3a365b.jpeg</td>\n",
       "      <td>Hispanic girliriends be like 02582 the last th...</td>\n",
       "      <td>1</td>\n",
       "      <td>0</td>\n",
       "    </tr>\n",
       "    <tr>\n",
       "      <th>886</th>\n",
       "      <td>3296e4cea44ab2cd64470be83d474b20.jpeg</td>\n",
       "      <td>My transgender friend keeps talking about suic...</td>\n",
       "      <td>1</td>\n",
       "      <td>1</td>\n",
       "    </tr>\n",
       "    <tr>\n",
       "      <th>887</th>\n",
       "      <td>joy.png</td>\n",
       "      <td>GOD HATES FAGS KAA</td>\n",
       "      <td>1</td>\n",
       "      <td>0</td>\n",
       "    </tr>\n",
       "  </tbody>\n",
       "</table>\n",
       "<p>769 rows × 4 columns</p>\n",
       "</div>"
      ],
      "text/plain": [
       "                                                    id  \\\n",
       "0    10246724_747008182064474_2873398654888745189_n...   \n",
       "1                                       obama-meme.jpg   \n",
       "2                                          alldone.png   \n",
       "3                                            brown.png   \n",
       "4                                         patriots.png   \n",
       "..                                                 ...   \n",
       "883              389ae57e1c001ec78fc84a56eb86060b.jpeg   \n",
       "884              421ba6b590f60e8ca14b864ef62b0937.jpeg   \n",
       "885              8b0692fbb7b694714d9469223c3a365b.jpeg   \n",
       "886              3296e4cea44ab2cd64470be83d474b20.jpeg   \n",
       "887                                            joy.png   \n",
       "\n",
       "                                                  text  label  prediction  \n",
       "0    DONALD DUCK TEACHING SUBLIMINAL MESSAGES TO YO...      1           0  \n",
       "1    Sorry it took so long to get you a copy of my ...      1           0  \n",
       "2    YOU SLANDERED DEGRADED AND HUMILIATED ME IN FR...      1           0  \n",
       "3    IF ITS YELLOW LET IT MELLOW IF BROWN FLUSH IT ...      1           0  \n",
       "4    In 2016 the American public realized that thei...      1           1  \n",
       "..                                                 ...    ...         ...  \n",
       "883  THN BLACK FAST my sympathies are BLACK BLACK B...      1           0  \n",
       "884  I WAS GOING TO SMOKE A JOINT WITH SOME MEXICAN...      1           0  \n",
       "885  Hispanic girliriends be like 02582 the last th...      1           0  \n",
       "886  My transgender friend keeps talking about suic...      1           1  \n",
       "887                                 GOD HATES FAGS KAA      1           0  \n",
       "\n",
       "[769 rows x 4 columns]"
      ]
     },
     "execution_count": 30,
     "metadata": {},
     "output_type": "execute_result"
    }
   ],
   "source": [
    "meme_text_outs = api_memes.copy()\n",
    "\n",
    "meme_text_outs.insert(3, 'prediction', y_all_pred_label)\n",
    "meme_text_outs.insert(4, 'pred_val0', np.array(y_all_pred[0][:,0]))\n",
    "meme_text_outs.insert(5, 'pred_val1', np.array(y_all_pred[0][:,1]))\n",
    "\n",
    "meme_text_outs"
   ]
  },
  {
   "cell_type": "code",
   "execution_count": 31,
   "id": "58402452",
   "metadata": {},
   "outputs": [],
   "source": [
    "meme_text_outs.to_csv(os.path.join(repo, \"data\", \"processed\", \"big_bert_validation_predictions_st.csv\"))"
   ]
  }
 ],
 "metadata": {
  "colab": {
   "collapsed_sections": [],
   "name": "text_model.ipynb",
   "provenance": []
  },
  "kernelspec": {
   "display_name": "Python 3 (ipykernel)",
   "language": "python",
   "name": "python3"
  },
  "language_info": {
   "codemirror_mode": {
    "name": "ipython",
    "version": 3
   },
   "file_extension": ".py",
   "mimetype": "text/x-python",
   "name": "python",
   "nbconvert_exporter": "python",
   "pygments_lexer": "ipython3",
   "version": "3.7.4"
  },
  "widgets": {
   "application/vnd.jupyter.widget-state+json": {
    "043b89eb59e747829cbe5aed5f7f7a4a": {
     "model_module": "@jupyter-widgets/base",
     "model_module_version": "1.2.0",
     "model_name": "LayoutModel",
     "state": {
      "_model_module": "@jupyter-widgets/base",
      "_model_module_version": "1.2.0",
      "_model_name": "LayoutModel",
      "_view_count": null,
      "_view_module": "@jupyter-widgets/base",
      "_view_module_version": "1.2.0",
      "_view_name": "LayoutView",
      "align_content": null,
      "align_items": null,
      "align_self": null,
      "border": null,
      "bottom": null,
      "display": null,
      "flex": null,
      "flex_flow": null,
      "grid_area": null,
      "grid_auto_columns": null,
      "grid_auto_flow": null,
      "grid_auto_rows": null,
      "grid_column": null,
      "grid_gap": null,
      "grid_row": null,
      "grid_template_areas": null,
      "grid_template_columns": null,
      "grid_template_rows": null,
      "height": null,
      "justify_content": null,
      "justify_items": null,
      "left": null,
      "margin": null,
      "max_height": null,
      "max_width": null,
      "min_height": null,
      "min_width": null,
      "object_fit": null,
      "object_position": null,
      "order": null,
      "overflow": null,
      "overflow_x": null,
      "overflow_y": null,
      "padding": null,
      "right": null,
      "top": null,
      "visibility": null,
      "width": null
     }
    },
    "062125208ae34d739feebbb25976e727": {
     "model_module": "@jupyter-widgets/controls",
     "model_module_version": "1.5.0",
     "model_name": "ProgressStyleModel",
     "state": {
      "_model_module": "@jupyter-widgets/controls",
      "_model_module_version": "1.5.0",
      "_model_name": "ProgressStyleModel",
      "_view_count": null,
      "_view_module": "@jupyter-widgets/base",
      "_view_module_version": "1.2.0",
      "_view_name": "StyleView",
      "bar_color": null,
      "description_width": ""
     }
    },
    "065740908f474ba3828a8695c05aeaec": {
     "model_module": "@jupyter-widgets/base",
     "model_module_version": "1.2.0",
     "model_name": "LayoutModel",
     "state": {
      "_model_module": "@jupyter-widgets/base",
      "_model_module_version": "1.2.0",
      "_model_name": "LayoutModel",
      "_view_count": null,
      "_view_module": "@jupyter-widgets/base",
      "_view_module_version": "1.2.0",
      "_view_name": "LayoutView",
      "align_content": null,
      "align_items": null,
      "align_self": null,
      "border": null,
      "bottom": null,
      "display": null,
      "flex": null,
      "flex_flow": null,
      "grid_area": null,
      "grid_auto_columns": null,
      "grid_auto_flow": null,
      "grid_auto_rows": null,
      "grid_column": null,
      "grid_gap": null,
      "grid_row": null,
      "grid_template_areas": null,
      "grid_template_columns": null,
      "grid_template_rows": null,
      "height": null,
      "justify_content": null,
      "justify_items": null,
      "left": null,
      "margin": null,
      "max_height": null,
      "max_width": null,
      "min_height": null,
      "min_width": null,
      "object_fit": null,
      "object_position": null,
      "order": null,
      "overflow": null,
      "overflow_x": null,
      "overflow_y": null,
      "padding": null,
      "right": null,
      "top": null,
      "visibility": null,
      "width": null
     }
    },
    "082848953b5b441788772911766d01b9": {
     "model_module": "@jupyter-widgets/base",
     "model_module_version": "1.2.0",
     "model_name": "LayoutModel",
     "state": {
      "_model_module": "@jupyter-widgets/base",
      "_model_module_version": "1.2.0",
      "_model_name": "LayoutModel",
      "_view_count": null,
      "_view_module": "@jupyter-widgets/base",
      "_view_module_version": "1.2.0",
      "_view_name": "LayoutView",
      "align_content": null,
      "align_items": null,
      "align_self": null,
      "border": null,
      "bottom": null,
      "display": null,
      "flex": null,
      "flex_flow": null,
      "grid_area": null,
      "grid_auto_columns": null,
      "grid_auto_flow": null,
      "grid_auto_rows": null,
      "grid_column": null,
      "grid_gap": null,
      "grid_row": null,
      "grid_template_areas": null,
      "grid_template_columns": null,
      "grid_template_rows": null,
      "height": null,
      "justify_content": null,
      "justify_items": null,
      "left": null,
      "margin": null,
      "max_height": null,
      "max_width": null,
      "min_height": null,
      "min_width": null,
      "object_fit": null,
      "object_position": null,
      "order": null,
      "overflow": null,
      "overflow_x": null,
      "overflow_y": null,
      "padding": null,
      "right": null,
      "top": null,
      "visibility": null,
      "width": null
     }
    },
    "0863fd92d78a4a80aa8601d7b4508d45": {
     "model_module": "@jupyter-widgets/controls",
     "model_module_version": "1.5.0",
     "model_name": "FloatProgressModel",
     "state": {
      "_dom_classes": [],
      "_model_module": "@jupyter-widgets/controls",
      "_model_module_version": "1.5.0",
      "_model_name": "FloatProgressModel",
      "_view_count": null,
      "_view_module": "@jupyter-widgets/controls",
      "_view_module_version": "1.5.0",
      "_view_name": "ProgressView",
      "bar_style": "success",
      "description": "",
      "description_tooltip": null,
      "layout": "IPY_MODEL_f0d67ca36d5d4e9abdc86010b53ca147",
      "max": 28,
      "min": 0,
      "orientation": "horizontal",
      "style": "IPY_MODEL_f0b720bf306b4e1480daa790772429f8",
      "value": 28
     }
    },
    "11cb7e0597cd4e30a36d58536433575b": {
     "model_module": "@jupyter-widgets/controls",
     "model_module_version": "1.5.0",
     "model_name": "HTMLModel",
     "state": {
      "_dom_classes": [],
      "_model_module": "@jupyter-widgets/controls",
      "_model_module_version": "1.5.0",
      "_model_name": "HTMLModel",
      "_view_count": null,
      "_view_module": "@jupyter-widgets/controls",
      "_view_module_version": "1.5.0",
      "_view_name": "HTMLView",
      "description": "",
      "description_tooltip": null,
      "layout": "IPY_MODEL_082848953b5b441788772911766d01b9",
      "placeholder": "​",
      "style": "IPY_MODEL_a3f0d564bd7f4e10bf56c42af5a89a5f",
      "value": " 570/570 [00:00&lt;00:00, 8.70kB/s]"
     }
    },
    "1226284149234662b0a10934f6866c93": {
     "model_module": "@jupyter-widgets/controls",
     "model_module_version": "1.5.0",
     "model_name": "ProgressStyleModel",
     "state": {
      "_model_module": "@jupyter-widgets/controls",
      "_model_module_version": "1.5.0",
      "_model_name": "ProgressStyleModel",
      "_view_count": null,
      "_view_module": "@jupyter-widgets/base",
      "_view_module_version": "1.2.0",
      "_view_name": "StyleView",
      "bar_color": null,
      "description_width": ""
     }
    },
    "19f72495798d41f9b2c69e620810da83": {
     "model_module": "@jupyter-widgets/base",
     "model_module_version": "1.2.0",
     "model_name": "LayoutModel",
     "state": {
      "_model_module": "@jupyter-widgets/base",
      "_model_module_version": "1.2.0",
      "_model_name": "LayoutModel",
      "_view_count": null,
      "_view_module": "@jupyter-widgets/base",
      "_view_module_version": "1.2.0",
      "_view_name": "LayoutView",
      "align_content": null,
      "align_items": null,
      "align_self": null,
      "border": null,
      "bottom": null,
      "display": null,
      "flex": null,
      "flex_flow": null,
      "grid_area": null,
      "grid_auto_columns": null,
      "grid_auto_flow": null,
      "grid_auto_rows": null,
      "grid_column": null,
      "grid_gap": null,
      "grid_row": null,
      "grid_template_areas": null,
      "grid_template_columns": null,
      "grid_template_rows": null,
      "height": null,
      "justify_content": null,
      "justify_items": null,
      "left": null,
      "margin": null,
      "max_height": null,
      "max_width": null,
      "min_height": null,
      "min_width": null,
      "object_fit": null,
      "object_position": null,
      "order": null,
      "overflow": null,
      "overflow_x": null,
      "overflow_y": null,
      "padding": null,
      "right": null,
      "top": null,
      "visibility": null,
      "width": null
     }
    },
    "1b81b76f91084523bb5f582a1d532e23": {
     "model_module": "@jupyter-widgets/controls",
     "model_module_version": "1.5.0",
     "model_name": "FloatProgressModel",
     "state": {
      "_dom_classes": [],
      "_model_module": "@jupyter-widgets/controls",
      "_model_module_version": "1.5.0",
      "_model_name": "FloatProgressModel",
      "_view_count": null,
      "_view_module": "@jupyter-widgets/controls",
      "_view_module_version": "1.5.0",
      "_view_name": "ProgressView",
      "bar_style": "success",
      "description": "",
      "description_tooltip": null,
      "layout": "IPY_MODEL_a318f78259eb4513923c9861d411d720",
      "max": 536063208,
      "min": 0,
      "orientation": "horizontal",
      "style": "IPY_MODEL_ff33a4520b224ec29571558206271be0",
      "value": 536063208
     }
    },
    "1f1d860b60de4cf3ba071333afc7b9d8": {
     "model_module": "@jupyter-widgets/controls",
     "model_module_version": "1.5.0",
     "model_name": "DescriptionStyleModel",
     "state": {
      "_model_module": "@jupyter-widgets/controls",
      "_model_module_version": "1.5.0",
      "_model_name": "DescriptionStyleModel",
      "_view_count": null,
      "_view_module": "@jupyter-widgets/base",
      "_view_module_version": "1.2.0",
      "_view_name": "StyleView",
      "description_width": ""
     }
    },
    "1f39e8440dd94b0c88a4149d22044440": {
     "model_module": "@jupyter-widgets/base",
     "model_module_version": "1.2.0",
     "model_name": "LayoutModel",
     "state": {
      "_model_module": "@jupyter-widgets/base",
      "_model_module_version": "1.2.0",
      "_model_name": "LayoutModel",
      "_view_count": null,
      "_view_module": "@jupyter-widgets/base",
      "_view_module_version": "1.2.0",
      "_view_name": "LayoutView",
      "align_content": null,
      "align_items": null,
      "align_self": null,
      "border": null,
      "bottom": null,
      "display": null,
      "flex": null,
      "flex_flow": null,
      "grid_area": null,
      "grid_auto_columns": null,
      "grid_auto_flow": null,
      "grid_auto_rows": null,
      "grid_column": null,
      "grid_gap": null,
      "grid_row": null,
      "grid_template_areas": null,
      "grid_template_columns": null,
      "grid_template_rows": null,
      "height": null,
      "justify_content": null,
      "justify_items": null,
      "left": null,
      "margin": null,
      "max_height": null,
      "max_width": null,
      "min_height": null,
      "min_width": null,
      "object_fit": null,
      "object_position": null,
      "order": null,
      "overflow": null,
      "overflow_x": null,
      "overflow_y": null,
      "padding": null,
      "right": null,
      "top": null,
      "visibility": null,
      "width": null
     }
    },
    "209009ba4880480d861d099a22a8d2f8": {
     "model_module": "@jupyter-widgets/controls",
     "model_module_version": "1.5.0",
     "model_name": "HBoxModel",
     "state": {
      "_dom_classes": [],
      "_model_module": "@jupyter-widgets/controls",
      "_model_module_version": "1.5.0",
      "_model_name": "HBoxModel",
      "_view_count": null,
      "_view_module": "@jupyter-widgets/controls",
      "_view_module_version": "1.5.0",
      "_view_name": "HBoxView",
      "box_style": "",
      "children": [
       "IPY_MODEL_6672f1c4990e487c95231f476f2a5eb0",
       "IPY_MODEL_93e34a6c069244f49308b7dcb135fc2e",
       "IPY_MODEL_2a3e8eeef72548de966481b6149374e4"
      ],
      "layout": "IPY_MODEL_a4a918fa7f514d0f9bed08fe72186a39"
     }
    },
    "2a3e8eeef72548de966481b6149374e4": {
     "model_module": "@jupyter-widgets/controls",
     "model_module_version": "1.5.0",
     "model_name": "HTMLModel",
     "state": {
      "_dom_classes": [],
      "_model_module": "@jupyter-widgets/controls",
      "_model_module_version": "1.5.0",
      "_model_name": "HTMLModel",
      "_view_count": null,
      "_view_module": "@jupyter-widgets/controls",
      "_view_module_version": "1.5.0",
      "_view_name": "HTMLView",
      "description": "",
      "description_tooltip": null,
      "layout": "IPY_MODEL_f80cfafa2a224cf9a6a4d7f44f728462",
      "placeholder": "​",
      "style": "IPY_MODEL_f9ddad1eb71440a28656d82d5a9c0570",
      "value": " 455k/455k [00:00&lt;00:00, 3.07MB/s]"
     }
    },
    "34cfedf3dbd843a2af448f6cc07f540f": {
     "model_module": "@jupyter-widgets/base",
     "model_module_version": "1.2.0",
     "model_name": "LayoutModel",
     "state": {
      "_model_module": "@jupyter-widgets/base",
      "_model_module_version": "1.2.0",
      "_model_name": "LayoutModel",
      "_view_count": null,
      "_view_module": "@jupyter-widgets/base",
      "_view_module_version": "1.2.0",
      "_view_name": "LayoutView",
      "align_content": null,
      "align_items": null,
      "align_self": null,
      "border": null,
      "bottom": null,
      "display": null,
      "flex": null,
      "flex_flow": null,
      "grid_area": null,
      "grid_auto_columns": null,
      "grid_auto_flow": null,
      "grid_auto_rows": null,
      "grid_column": null,
      "grid_gap": null,
      "grid_row": null,
      "grid_template_areas": null,
      "grid_template_columns": null,
      "grid_template_rows": null,
      "height": null,
      "justify_content": null,
      "justify_items": null,
      "left": null,
      "margin": null,
      "max_height": null,
      "max_width": null,
      "min_height": null,
      "min_width": null,
      "object_fit": null,
      "object_position": null,
      "order": null,
      "overflow": null,
      "overflow_x": null,
      "overflow_y": null,
      "padding": null,
      "right": null,
      "top": null,
      "visibility": null,
      "width": null
     }
    },
    "4f618bf4b2ef4a2281f8842a22d7bc77": {
     "model_module": "@jupyter-widgets/controls",
     "model_module_version": "1.5.0",
     "model_name": "HTMLModel",
     "state": {
      "_dom_classes": [],
      "_model_module": "@jupyter-widgets/controls",
      "_model_module_version": "1.5.0",
      "_model_name": "HTMLModel",
      "_view_count": null,
      "_view_module": "@jupyter-widgets/controls",
      "_view_module_version": "1.5.0",
      "_view_name": "HTMLView",
      "description": "",
      "description_tooltip": null,
      "layout": "IPY_MODEL_19f72495798d41f9b2c69e620810da83",
      "placeholder": "​",
      "style": "IPY_MODEL_c9c7e4bc2c424a2e8406b727bf30c17e",
      "value": "Downloading: 100%"
     }
    },
    "51703e6dd4984ba1a28164ef3e3e7a85": {
     "model_module": "@jupyter-widgets/controls",
     "model_module_version": "1.5.0",
     "model_name": "DescriptionStyleModel",
     "state": {
      "_model_module": "@jupyter-widgets/controls",
      "_model_module_version": "1.5.0",
      "_model_name": "DescriptionStyleModel",
      "_view_count": null,
      "_view_module": "@jupyter-widgets/base",
      "_view_module_version": "1.2.0",
      "_view_name": "StyleView",
      "description_width": ""
     }
    },
    "5189fb56da394f0fabc159fe136ed39a": {
     "model_module": "@jupyter-widgets/controls",
     "model_module_version": "1.5.0",
     "model_name": "DescriptionStyleModel",
     "state": {
      "_model_module": "@jupyter-widgets/controls",
      "_model_module_version": "1.5.0",
      "_model_name": "DescriptionStyleModel",
      "_view_count": null,
      "_view_module": "@jupyter-widgets/base",
      "_view_module_version": "1.2.0",
      "_view_name": "StyleView",
      "description_width": ""
     }
    },
    "52ab205f720d49a4aba963a8074d52dc": {
     "model_module": "@jupyter-widgets/base",
     "model_module_version": "1.2.0",
     "model_name": "LayoutModel",
     "state": {
      "_model_module": "@jupyter-widgets/base",
      "_model_module_version": "1.2.0",
      "_model_name": "LayoutModel",
      "_view_count": null,
      "_view_module": "@jupyter-widgets/base",
      "_view_module_version": "1.2.0",
      "_view_name": "LayoutView",
      "align_content": null,
      "align_items": null,
      "align_self": null,
      "border": null,
      "bottom": null,
      "display": null,
      "flex": null,
      "flex_flow": null,
      "grid_area": null,
      "grid_auto_columns": null,
      "grid_auto_flow": null,
      "grid_auto_rows": null,
      "grid_column": null,
      "grid_gap": null,
      "grid_row": null,
      "grid_template_areas": null,
      "grid_template_columns": null,
      "grid_template_rows": null,
      "height": null,
      "justify_content": null,
      "justify_items": null,
      "left": null,
      "margin": null,
      "max_height": null,
      "max_width": null,
      "min_height": null,
      "min_width": null,
      "object_fit": null,
      "object_position": null,
      "order": null,
      "overflow": null,
      "overflow_x": null,
      "overflow_y": null,
      "padding": null,
      "right": null,
      "top": null,
      "visibility": null,
      "width": null
     }
    },
    "57358d9cd8784dc8b323ec3f3e037f73": {
     "model_module": "@jupyter-widgets/controls",
     "model_module_version": "1.5.0",
     "model_name": "HTMLModel",
     "state": {
      "_dom_classes": [],
      "_model_module": "@jupyter-widgets/controls",
      "_model_module_version": "1.5.0",
      "_model_name": "HTMLModel",
      "_view_count": null,
      "_view_module": "@jupyter-widgets/controls",
      "_view_module_version": "1.5.0",
      "_view_name": "HTMLView",
      "description": "",
      "description_tooltip": null,
      "layout": "IPY_MODEL_52ab205f720d49a4aba963a8074d52dc",
      "placeholder": "​",
      "style": "IPY_MODEL_a58290f9c2f043d3b4026c4ea882160d",
      "value": "Downloading: 100%"
     }
    },
    "592f6e9eb5694d6c8d6c02a66eb66779": {
     "model_module": "@jupyter-widgets/controls",
     "model_module_version": "1.5.0",
     "model_name": "DescriptionStyleModel",
     "state": {
      "_model_module": "@jupyter-widgets/controls",
      "_model_module_version": "1.5.0",
      "_model_name": "DescriptionStyleModel",
      "_view_count": null,
      "_view_module": "@jupyter-widgets/base",
      "_view_module_version": "1.2.0",
      "_view_name": "StyleView",
      "description_width": ""
     }
    },
    "5ccbdf3b2e7545ac84c79e1032309a8a": {
     "model_module": "@jupyter-widgets/controls",
     "model_module_version": "1.5.0",
     "model_name": "HBoxModel",
     "state": {
      "_dom_classes": [],
      "_model_module": "@jupyter-widgets/controls",
      "_model_module_version": "1.5.0",
      "_model_name": "HBoxModel",
      "_view_count": null,
      "_view_module": "@jupyter-widgets/controls",
      "_view_module_version": "1.5.0",
      "_view_name": "HBoxView",
      "box_style": "",
      "children": [
       "IPY_MODEL_a2fc998883f747e8999310f0aab98c99",
       "IPY_MODEL_0863fd92d78a4a80aa8601d7b4508d45",
       "IPY_MODEL_daa443934687433f9244ece112c5aa70"
      ],
      "layout": "IPY_MODEL_043b89eb59e747829cbe5aed5f7f7a4a"
     }
    },
    "5da95484bfde4829a86c4d41233fed0e": {
     "model_module": "@jupyter-widgets/controls",
     "model_module_version": "1.5.0",
     "model_name": "FloatProgressModel",
     "state": {
      "_dom_classes": [],
      "_model_module": "@jupyter-widgets/controls",
      "_model_module_version": "1.5.0",
      "_model_name": "FloatProgressModel",
      "_view_count": null,
      "_view_module": "@jupyter-widgets/controls",
      "_view_module_version": "1.5.0",
      "_view_name": "ProgressView",
      "bar_style": "success",
      "description": "",
      "description_tooltip": null,
      "layout": "IPY_MODEL_065740908f474ba3828a8695c05aeaec",
      "max": 231508,
      "min": 0,
      "orientation": "horizontal",
      "style": "IPY_MODEL_1226284149234662b0a10934f6866c93",
      "value": 231508
     }
    },
    "6010f0056e35466194346a138c01ec38": {
     "model_module": "@jupyter-widgets/base",
     "model_module_version": "1.2.0",
     "model_name": "LayoutModel",
     "state": {
      "_model_module": "@jupyter-widgets/base",
      "_model_module_version": "1.2.0",
      "_model_name": "LayoutModel",
      "_view_count": null,
      "_view_module": "@jupyter-widgets/base",
      "_view_module_version": "1.2.0",
      "_view_name": "LayoutView",
      "align_content": null,
      "align_items": null,
      "align_self": null,
      "border": null,
      "bottom": null,
      "display": null,
      "flex": null,
      "flex_flow": null,
      "grid_area": null,
      "grid_auto_columns": null,
      "grid_auto_flow": null,
      "grid_auto_rows": null,
      "grid_column": null,
      "grid_gap": null,
      "grid_row": null,
      "grid_template_areas": null,
      "grid_template_columns": null,
      "grid_template_rows": null,
      "height": null,
      "justify_content": null,
      "justify_items": null,
      "left": null,
      "margin": null,
      "max_height": null,
      "max_width": null,
      "min_height": null,
      "min_width": null,
      "object_fit": null,
      "object_position": null,
      "order": null,
      "overflow": null,
      "overflow_x": null,
      "overflow_y": null,
      "padding": null,
      "right": null,
      "top": null,
      "visibility": null,
      "width": null
     }
    },
    "64955511380d4fe58c9cd1a03e3bac8b": {
     "model_module": "@jupyter-widgets/controls",
     "model_module_version": "1.5.0",
     "model_name": "FloatProgressModel",
     "state": {
      "_dom_classes": [],
      "_model_module": "@jupyter-widgets/controls",
      "_model_module_version": "1.5.0",
      "_model_name": "FloatProgressModel",
      "_view_count": null,
      "_view_module": "@jupyter-widgets/controls",
      "_view_module_version": "1.5.0",
      "_view_name": "ProgressView",
      "bar_style": "success",
      "description": "",
      "description_tooltip": null,
      "layout": "IPY_MODEL_eae6dac8c1c7473f96482b14c1248db2",
      "max": 570,
      "min": 0,
      "orientation": "horizontal",
      "style": "IPY_MODEL_062125208ae34d739feebbb25976e727",
      "value": 570
     }
    },
    "6672f1c4990e487c95231f476f2a5eb0": {
     "model_module": "@jupyter-widgets/controls",
     "model_module_version": "1.5.0",
     "model_name": "HTMLModel",
     "state": {
      "_dom_classes": [],
      "_model_module": "@jupyter-widgets/controls",
      "_model_module_version": "1.5.0",
      "_model_name": "HTMLModel",
      "_view_count": null,
      "_view_module": "@jupyter-widgets/controls",
      "_view_module_version": "1.5.0",
      "_view_name": "HTMLView",
      "description": "",
      "description_tooltip": null,
      "layout": "IPY_MODEL_e069658abffb419abdba0e167d566bfd",
      "placeholder": "​",
      "style": "IPY_MODEL_592f6e9eb5694d6c8d6c02a66eb66779",
      "value": "Downloading: 100%"
     }
    },
    "6f98a4c517f5400bb36f8d44b0e3bc44": {
     "model_module": "@jupyter-widgets/controls",
     "model_module_version": "1.5.0",
     "model_name": "HTMLModel",
     "state": {
      "_dom_classes": [],
      "_model_module": "@jupyter-widgets/controls",
      "_model_module_version": "1.5.0",
      "_model_name": "HTMLModel",
      "_view_count": null,
      "_view_module": "@jupyter-widgets/controls",
      "_view_module_version": "1.5.0",
      "_view_name": "HTMLView",
      "description": "",
      "description_tooltip": null,
      "layout": "IPY_MODEL_da7ff4b970424a5b9c9eb015de2b688c",
      "placeholder": "​",
      "style": "IPY_MODEL_9df02c7ca233481db7cba24686cbedc5",
      "value": "Downloading: 100%"
     }
    },
    "7f5fb31ea2014f58b41c426b7c8662f4": {
     "model_module": "@jupyter-widgets/controls",
     "model_module_version": "1.5.0",
     "model_name": "HBoxModel",
     "state": {
      "_dom_classes": [],
      "_model_module": "@jupyter-widgets/controls",
      "_model_module_version": "1.5.0",
      "_model_name": "HBoxModel",
      "_view_count": null,
      "_view_module": "@jupyter-widgets/controls",
      "_view_module_version": "1.5.0",
      "_view_name": "HBoxView",
      "box_style": "",
      "children": [
       "IPY_MODEL_57358d9cd8784dc8b323ec3f3e037f73",
       "IPY_MODEL_5da95484bfde4829a86c4d41233fed0e",
       "IPY_MODEL_c9e83416e6ec4de5af22ed16e555cd1c"
      ],
      "layout": "IPY_MODEL_db65a5fd661446ff90df933f5933eead"
     }
    },
    "8b161101ac0c4503a3edce0161062dd6": {
     "model_module": "@jupyter-widgets/controls",
     "model_module_version": "1.5.0",
     "model_name": "HBoxModel",
     "state": {
      "_dom_classes": [],
      "_model_module": "@jupyter-widgets/controls",
      "_model_module_version": "1.5.0",
      "_model_name": "HBoxModel",
      "_view_count": null,
      "_view_module": "@jupyter-widgets/controls",
      "_view_module_version": "1.5.0",
      "_view_name": "HBoxView",
      "box_style": "",
      "children": [
       "IPY_MODEL_4f618bf4b2ef4a2281f8842a22d7bc77",
       "IPY_MODEL_64955511380d4fe58c9cd1a03e3bac8b",
       "IPY_MODEL_11cb7e0597cd4e30a36d58536433575b"
      ],
      "layout": "IPY_MODEL_ee75893adec442ae841d0fd00d717463"
     }
    },
    "917127b4560b46de98f72f13eb19cded": {
     "model_module": "@jupyter-widgets/controls",
     "model_module_version": "1.5.0",
     "model_name": "HBoxModel",
     "state": {
      "_dom_classes": [],
      "_model_module": "@jupyter-widgets/controls",
      "_model_module_version": "1.5.0",
      "_model_name": "HBoxModel",
      "_view_count": null,
      "_view_module": "@jupyter-widgets/controls",
      "_view_module_version": "1.5.0",
      "_view_name": "HBoxView",
      "box_style": "",
      "children": [
       "IPY_MODEL_6f98a4c517f5400bb36f8d44b0e3bc44",
       "IPY_MODEL_1b81b76f91084523bb5f582a1d532e23",
       "IPY_MODEL_e0f385a45d1c414f813131c96de19549"
      ],
      "layout": "IPY_MODEL_34cfedf3dbd843a2af448f6cc07f540f"
     }
    },
    "93e34a6c069244f49308b7dcb135fc2e": {
     "model_module": "@jupyter-widgets/controls",
     "model_module_version": "1.5.0",
     "model_name": "FloatProgressModel",
     "state": {
      "_dom_classes": [],
      "_model_module": "@jupyter-widgets/controls",
      "_model_module_version": "1.5.0",
      "_model_name": "FloatProgressModel",
      "_view_count": null,
      "_view_module": "@jupyter-widgets/controls",
      "_view_module_version": "1.5.0",
      "_view_name": "ProgressView",
      "bar_style": "success",
      "description": "",
      "description_tooltip": null,
      "layout": "IPY_MODEL_e8415daad40041a18a9db96c9208efad",
      "max": 466062,
      "min": 0,
      "orientation": "horizontal",
      "style": "IPY_MODEL_daf2c3448e5b4c38bf0f756506ce69de",
      "value": 466062
     }
    },
    "9df02c7ca233481db7cba24686cbedc5": {
     "model_module": "@jupyter-widgets/controls",
     "model_module_version": "1.5.0",
     "model_name": "DescriptionStyleModel",
     "state": {
      "_model_module": "@jupyter-widgets/controls",
      "_model_module_version": "1.5.0",
      "_model_name": "DescriptionStyleModel",
      "_view_count": null,
      "_view_module": "@jupyter-widgets/base",
      "_view_module_version": "1.2.0",
      "_view_name": "StyleView",
      "description_width": ""
     }
    },
    "a2fc998883f747e8999310f0aab98c99": {
     "model_module": "@jupyter-widgets/controls",
     "model_module_version": "1.5.0",
     "model_name": "HTMLModel",
     "state": {
      "_dom_classes": [],
      "_model_module": "@jupyter-widgets/controls",
      "_model_module_version": "1.5.0",
      "_model_name": "HTMLModel",
      "_view_count": null,
      "_view_module": "@jupyter-widgets/controls",
      "_view_module_version": "1.5.0",
      "_view_name": "HTMLView",
      "description": "",
      "description_tooltip": null,
      "layout": "IPY_MODEL_fbe7793d2c6f4eb78dd5b3de2a48674b",
      "placeholder": "​",
      "style": "IPY_MODEL_5189fb56da394f0fabc159fe136ed39a",
      "value": "Downloading: 100%"
     }
    },
    "a318f78259eb4513923c9861d411d720": {
     "model_module": "@jupyter-widgets/base",
     "model_module_version": "1.2.0",
     "model_name": "LayoutModel",
     "state": {
      "_model_module": "@jupyter-widgets/base",
      "_model_module_version": "1.2.0",
      "_model_name": "LayoutModel",
      "_view_count": null,
      "_view_module": "@jupyter-widgets/base",
      "_view_module_version": "1.2.0",
      "_view_name": "LayoutView",
      "align_content": null,
      "align_items": null,
      "align_self": null,
      "border": null,
      "bottom": null,
      "display": null,
      "flex": null,
      "flex_flow": null,
      "grid_area": null,
      "grid_auto_columns": null,
      "grid_auto_flow": null,
      "grid_auto_rows": null,
      "grid_column": null,
      "grid_gap": null,
      "grid_row": null,
      "grid_template_areas": null,
      "grid_template_columns": null,
      "grid_template_rows": null,
      "height": null,
      "justify_content": null,
      "justify_items": null,
      "left": null,
      "margin": null,
      "max_height": null,
      "max_width": null,
      "min_height": null,
      "min_width": null,
      "object_fit": null,
      "object_position": null,
      "order": null,
      "overflow": null,
      "overflow_x": null,
      "overflow_y": null,
      "padding": null,
      "right": null,
      "top": null,
      "visibility": null,
      "width": null
     }
    },
    "a3f0d564bd7f4e10bf56c42af5a89a5f": {
     "model_module": "@jupyter-widgets/controls",
     "model_module_version": "1.5.0",
     "model_name": "DescriptionStyleModel",
     "state": {
      "_model_module": "@jupyter-widgets/controls",
      "_model_module_version": "1.5.0",
      "_model_name": "DescriptionStyleModel",
      "_view_count": null,
      "_view_module": "@jupyter-widgets/base",
      "_view_module_version": "1.2.0",
      "_view_name": "StyleView",
      "description_width": ""
     }
    },
    "a4a918fa7f514d0f9bed08fe72186a39": {
     "model_module": "@jupyter-widgets/base",
     "model_module_version": "1.2.0",
     "model_name": "LayoutModel",
     "state": {
      "_model_module": "@jupyter-widgets/base",
      "_model_module_version": "1.2.0",
      "_model_name": "LayoutModel",
      "_view_count": null,
      "_view_module": "@jupyter-widgets/base",
      "_view_module_version": "1.2.0",
      "_view_name": "LayoutView",
      "align_content": null,
      "align_items": null,
      "align_self": null,
      "border": null,
      "bottom": null,
      "display": null,
      "flex": null,
      "flex_flow": null,
      "grid_area": null,
      "grid_auto_columns": null,
      "grid_auto_flow": null,
      "grid_auto_rows": null,
      "grid_column": null,
      "grid_gap": null,
      "grid_row": null,
      "grid_template_areas": null,
      "grid_template_columns": null,
      "grid_template_rows": null,
      "height": null,
      "justify_content": null,
      "justify_items": null,
      "left": null,
      "margin": null,
      "max_height": null,
      "max_width": null,
      "min_height": null,
      "min_width": null,
      "object_fit": null,
      "object_position": null,
      "order": null,
      "overflow": null,
      "overflow_x": null,
      "overflow_y": null,
      "padding": null,
      "right": null,
      "top": null,
      "visibility": null,
      "width": null
     }
    },
    "a58290f9c2f043d3b4026c4ea882160d": {
     "model_module": "@jupyter-widgets/controls",
     "model_module_version": "1.5.0",
     "model_name": "DescriptionStyleModel",
     "state": {
      "_model_module": "@jupyter-widgets/controls",
      "_model_module_version": "1.5.0",
      "_model_name": "DescriptionStyleModel",
      "_view_count": null,
      "_view_module": "@jupyter-widgets/base",
      "_view_module_version": "1.2.0",
      "_view_name": "StyleView",
      "description_width": ""
     }
    },
    "c596f0a78cd24815bc45fd4dd69d66f5": {
     "model_module": "@jupyter-widgets/base",
     "model_module_version": "1.2.0",
     "model_name": "LayoutModel",
     "state": {
      "_model_module": "@jupyter-widgets/base",
      "_model_module_version": "1.2.0",
      "_model_name": "LayoutModel",
      "_view_count": null,
      "_view_module": "@jupyter-widgets/base",
      "_view_module_version": "1.2.0",
      "_view_name": "LayoutView",
      "align_content": null,
      "align_items": null,
      "align_self": null,
      "border": null,
      "bottom": null,
      "display": null,
      "flex": null,
      "flex_flow": null,
      "grid_area": null,
      "grid_auto_columns": null,
      "grid_auto_flow": null,
      "grid_auto_rows": null,
      "grid_column": null,
      "grid_gap": null,
      "grid_row": null,
      "grid_template_areas": null,
      "grid_template_columns": null,
      "grid_template_rows": null,
      "height": null,
      "justify_content": null,
      "justify_items": null,
      "left": null,
      "margin": null,
      "max_height": null,
      "max_width": null,
      "min_height": null,
      "min_width": null,
      "object_fit": null,
      "object_position": null,
      "order": null,
      "overflow": null,
      "overflow_x": null,
      "overflow_y": null,
      "padding": null,
      "right": null,
      "top": null,
      "visibility": null,
      "width": null
     }
    },
    "c9c7e4bc2c424a2e8406b727bf30c17e": {
     "model_module": "@jupyter-widgets/controls",
     "model_module_version": "1.5.0",
     "model_name": "DescriptionStyleModel",
     "state": {
      "_model_module": "@jupyter-widgets/controls",
      "_model_module_version": "1.5.0",
      "_model_name": "DescriptionStyleModel",
      "_view_count": null,
      "_view_module": "@jupyter-widgets/base",
      "_view_module_version": "1.2.0",
      "_view_name": "StyleView",
      "description_width": ""
     }
    },
    "c9e83416e6ec4de5af22ed16e555cd1c": {
     "model_module": "@jupyter-widgets/controls",
     "model_module_version": "1.5.0",
     "model_name": "HTMLModel",
     "state": {
      "_dom_classes": [],
      "_model_module": "@jupyter-widgets/controls",
      "_model_module_version": "1.5.0",
      "_model_name": "HTMLModel",
      "_view_count": null,
      "_view_module": "@jupyter-widgets/controls",
      "_view_module_version": "1.5.0",
      "_view_name": "HTMLView",
      "description": "",
      "description_tooltip": null,
      "layout": "IPY_MODEL_1f39e8440dd94b0c88a4149d22044440",
      "placeholder": "​",
      "style": "IPY_MODEL_51703e6dd4984ba1a28164ef3e3e7a85",
      "value": " 226k/226k [00:00&lt;00:00, 2.80MB/s]"
     }
    },
    "d1f01c0107ba40f9b2e2927577ccf3cc": {
     "model_module": "@jupyter-widgets/controls",
     "model_module_version": "1.5.0",
     "model_name": "DescriptionStyleModel",
     "state": {
      "_model_module": "@jupyter-widgets/controls",
      "_model_module_version": "1.5.0",
      "_model_name": "DescriptionStyleModel",
      "_view_count": null,
      "_view_module": "@jupyter-widgets/base",
      "_view_module_version": "1.2.0",
      "_view_name": "StyleView",
      "description_width": ""
     }
    },
    "da7ff4b970424a5b9c9eb015de2b688c": {
     "model_module": "@jupyter-widgets/base",
     "model_module_version": "1.2.0",
     "model_name": "LayoutModel",
     "state": {
      "_model_module": "@jupyter-widgets/base",
      "_model_module_version": "1.2.0",
      "_model_name": "LayoutModel",
      "_view_count": null,
      "_view_module": "@jupyter-widgets/base",
      "_view_module_version": "1.2.0",
      "_view_name": "LayoutView",
      "align_content": null,
      "align_items": null,
      "align_self": null,
      "border": null,
      "bottom": null,
      "display": null,
      "flex": null,
      "flex_flow": null,
      "grid_area": null,
      "grid_auto_columns": null,
      "grid_auto_flow": null,
      "grid_auto_rows": null,
      "grid_column": null,
      "grid_gap": null,
      "grid_row": null,
      "grid_template_areas": null,
      "grid_template_columns": null,
      "grid_template_rows": null,
      "height": null,
      "justify_content": null,
      "justify_items": null,
      "left": null,
      "margin": null,
      "max_height": null,
      "max_width": null,
      "min_height": null,
      "min_width": null,
      "object_fit": null,
      "object_position": null,
      "order": null,
      "overflow": null,
      "overflow_x": null,
      "overflow_y": null,
      "padding": null,
      "right": null,
      "top": null,
      "visibility": null,
      "width": null
     }
    },
    "daa443934687433f9244ece112c5aa70": {
     "model_module": "@jupyter-widgets/controls",
     "model_module_version": "1.5.0",
     "model_name": "HTMLModel",
     "state": {
      "_dom_classes": [],
      "_model_module": "@jupyter-widgets/controls",
      "_model_module_version": "1.5.0",
      "_model_name": "HTMLModel",
      "_view_count": null,
      "_view_module": "@jupyter-widgets/controls",
      "_view_module_version": "1.5.0",
      "_view_name": "HTMLView",
      "description": "",
      "description_tooltip": null,
      "layout": "IPY_MODEL_c596f0a78cd24815bc45fd4dd69d66f5",
      "placeholder": "​",
      "style": "IPY_MODEL_d1f01c0107ba40f9b2e2927577ccf3cc",
      "value": " 28.0/28.0 [00:00&lt;00:00, 543B/s]"
     }
    },
    "daf2c3448e5b4c38bf0f756506ce69de": {
     "model_module": "@jupyter-widgets/controls",
     "model_module_version": "1.5.0",
     "model_name": "ProgressStyleModel",
     "state": {
      "_model_module": "@jupyter-widgets/controls",
      "_model_module_version": "1.5.0",
      "_model_name": "ProgressStyleModel",
      "_view_count": null,
      "_view_module": "@jupyter-widgets/base",
      "_view_module_version": "1.2.0",
      "_view_name": "StyleView",
      "bar_color": null,
      "description_width": ""
     }
    },
    "db65a5fd661446ff90df933f5933eead": {
     "model_module": "@jupyter-widgets/base",
     "model_module_version": "1.2.0",
     "model_name": "LayoutModel",
     "state": {
      "_model_module": "@jupyter-widgets/base",
      "_model_module_version": "1.2.0",
      "_model_name": "LayoutModel",
      "_view_count": null,
      "_view_module": "@jupyter-widgets/base",
      "_view_module_version": "1.2.0",
      "_view_name": "LayoutView",
      "align_content": null,
      "align_items": null,
      "align_self": null,
      "border": null,
      "bottom": null,
      "display": null,
      "flex": null,
      "flex_flow": null,
      "grid_area": null,
      "grid_auto_columns": null,
      "grid_auto_flow": null,
      "grid_auto_rows": null,
      "grid_column": null,
      "grid_gap": null,
      "grid_row": null,
      "grid_template_areas": null,
      "grid_template_columns": null,
      "grid_template_rows": null,
      "height": null,
      "justify_content": null,
      "justify_items": null,
      "left": null,
      "margin": null,
      "max_height": null,
      "max_width": null,
      "min_height": null,
      "min_width": null,
      "object_fit": null,
      "object_position": null,
      "order": null,
      "overflow": null,
      "overflow_x": null,
      "overflow_y": null,
      "padding": null,
      "right": null,
      "top": null,
      "visibility": null,
      "width": null
     }
    },
    "e069658abffb419abdba0e167d566bfd": {
     "model_module": "@jupyter-widgets/base",
     "model_module_version": "1.2.0",
     "model_name": "LayoutModel",
     "state": {
      "_model_module": "@jupyter-widgets/base",
      "_model_module_version": "1.2.0",
      "_model_name": "LayoutModel",
      "_view_count": null,
      "_view_module": "@jupyter-widgets/base",
      "_view_module_version": "1.2.0",
      "_view_name": "LayoutView",
      "align_content": null,
      "align_items": null,
      "align_self": null,
      "border": null,
      "bottom": null,
      "display": null,
      "flex": null,
      "flex_flow": null,
      "grid_area": null,
      "grid_auto_columns": null,
      "grid_auto_flow": null,
      "grid_auto_rows": null,
      "grid_column": null,
      "grid_gap": null,
      "grid_row": null,
      "grid_template_areas": null,
      "grid_template_columns": null,
      "grid_template_rows": null,
      "height": null,
      "justify_content": null,
      "justify_items": null,
      "left": null,
      "margin": null,
      "max_height": null,
      "max_width": null,
      "min_height": null,
      "min_width": null,
      "object_fit": null,
      "object_position": null,
      "order": null,
      "overflow": null,
      "overflow_x": null,
      "overflow_y": null,
      "padding": null,
      "right": null,
      "top": null,
      "visibility": null,
      "width": null
     }
    },
    "e0f385a45d1c414f813131c96de19549": {
     "model_module": "@jupyter-widgets/controls",
     "model_module_version": "1.5.0",
     "model_name": "HTMLModel",
     "state": {
      "_dom_classes": [],
      "_model_module": "@jupyter-widgets/controls",
      "_model_module_version": "1.5.0",
      "_model_name": "HTMLModel",
      "_view_count": null,
      "_view_module": "@jupyter-widgets/controls",
      "_view_module_version": "1.5.0",
      "_view_name": "HTMLView",
      "description": "",
      "description_tooltip": null,
      "layout": "IPY_MODEL_6010f0056e35466194346a138c01ec38",
      "placeholder": "​",
      "style": "IPY_MODEL_1f1d860b60de4cf3ba071333afc7b9d8",
      "value": " 511M/511M [00:12&lt;00:00, 46.0MB/s]"
     }
    },
    "e8415daad40041a18a9db96c9208efad": {
     "model_module": "@jupyter-widgets/base",
     "model_module_version": "1.2.0",
     "model_name": "LayoutModel",
     "state": {
      "_model_module": "@jupyter-widgets/base",
      "_model_module_version": "1.2.0",
      "_model_name": "LayoutModel",
      "_view_count": null,
      "_view_module": "@jupyter-widgets/base",
      "_view_module_version": "1.2.0",
      "_view_name": "LayoutView",
      "align_content": null,
      "align_items": null,
      "align_self": null,
      "border": null,
      "bottom": null,
      "display": null,
      "flex": null,
      "flex_flow": null,
      "grid_area": null,
      "grid_auto_columns": null,
      "grid_auto_flow": null,
      "grid_auto_rows": null,
      "grid_column": null,
      "grid_gap": null,
      "grid_row": null,
      "grid_template_areas": null,
      "grid_template_columns": null,
      "grid_template_rows": null,
      "height": null,
      "justify_content": null,
      "justify_items": null,
      "left": null,
      "margin": null,
      "max_height": null,
      "max_width": null,
      "min_height": null,
      "min_width": null,
      "object_fit": null,
      "object_position": null,
      "order": null,
      "overflow": null,
      "overflow_x": null,
      "overflow_y": null,
      "padding": null,
      "right": null,
      "top": null,
      "visibility": null,
      "width": null
     }
    },
    "eae6dac8c1c7473f96482b14c1248db2": {
     "model_module": "@jupyter-widgets/base",
     "model_module_version": "1.2.0",
     "model_name": "LayoutModel",
     "state": {
      "_model_module": "@jupyter-widgets/base",
      "_model_module_version": "1.2.0",
      "_model_name": "LayoutModel",
      "_view_count": null,
      "_view_module": "@jupyter-widgets/base",
      "_view_module_version": "1.2.0",
      "_view_name": "LayoutView",
      "align_content": null,
      "align_items": null,
      "align_self": null,
      "border": null,
      "bottom": null,
      "display": null,
      "flex": null,
      "flex_flow": null,
      "grid_area": null,
      "grid_auto_columns": null,
      "grid_auto_flow": null,
      "grid_auto_rows": null,
      "grid_column": null,
      "grid_gap": null,
      "grid_row": null,
      "grid_template_areas": null,
      "grid_template_columns": null,
      "grid_template_rows": null,
      "height": null,
      "justify_content": null,
      "justify_items": null,
      "left": null,
      "margin": null,
      "max_height": null,
      "max_width": null,
      "min_height": null,
      "min_width": null,
      "object_fit": null,
      "object_position": null,
      "order": null,
      "overflow": null,
      "overflow_x": null,
      "overflow_y": null,
      "padding": null,
      "right": null,
      "top": null,
      "visibility": null,
      "width": null
     }
    },
    "ee75893adec442ae841d0fd00d717463": {
     "model_module": "@jupyter-widgets/base",
     "model_module_version": "1.2.0",
     "model_name": "LayoutModel",
     "state": {
      "_model_module": "@jupyter-widgets/base",
      "_model_module_version": "1.2.0",
      "_model_name": "LayoutModel",
      "_view_count": null,
      "_view_module": "@jupyter-widgets/base",
      "_view_module_version": "1.2.0",
      "_view_name": "LayoutView",
      "align_content": null,
      "align_items": null,
      "align_self": null,
      "border": null,
      "bottom": null,
      "display": null,
      "flex": null,
      "flex_flow": null,
      "grid_area": null,
      "grid_auto_columns": null,
      "grid_auto_flow": null,
      "grid_auto_rows": null,
      "grid_column": null,
      "grid_gap": null,
      "grid_row": null,
      "grid_template_areas": null,
      "grid_template_columns": null,
      "grid_template_rows": null,
      "height": null,
      "justify_content": null,
      "justify_items": null,
      "left": null,
      "margin": null,
      "max_height": null,
      "max_width": null,
      "min_height": null,
      "min_width": null,
      "object_fit": null,
      "object_position": null,
      "order": null,
      "overflow": null,
      "overflow_x": null,
      "overflow_y": null,
      "padding": null,
      "right": null,
      "top": null,
      "visibility": null,
      "width": null
     }
    },
    "f0b720bf306b4e1480daa790772429f8": {
     "model_module": "@jupyter-widgets/controls",
     "model_module_version": "1.5.0",
     "model_name": "ProgressStyleModel",
     "state": {
      "_model_module": "@jupyter-widgets/controls",
      "_model_module_version": "1.5.0",
      "_model_name": "ProgressStyleModel",
      "_view_count": null,
      "_view_module": "@jupyter-widgets/base",
      "_view_module_version": "1.2.0",
      "_view_name": "StyleView",
      "bar_color": null,
      "description_width": ""
     }
    },
    "f0d67ca36d5d4e9abdc86010b53ca147": {
     "model_module": "@jupyter-widgets/base",
     "model_module_version": "1.2.0",
     "model_name": "LayoutModel",
     "state": {
      "_model_module": "@jupyter-widgets/base",
      "_model_module_version": "1.2.0",
      "_model_name": "LayoutModel",
      "_view_count": null,
      "_view_module": "@jupyter-widgets/base",
      "_view_module_version": "1.2.0",
      "_view_name": "LayoutView",
      "align_content": null,
      "align_items": null,
      "align_self": null,
      "border": null,
      "bottom": null,
      "display": null,
      "flex": null,
      "flex_flow": null,
      "grid_area": null,
      "grid_auto_columns": null,
      "grid_auto_flow": null,
      "grid_auto_rows": null,
      "grid_column": null,
      "grid_gap": null,
      "grid_row": null,
      "grid_template_areas": null,
      "grid_template_columns": null,
      "grid_template_rows": null,
      "height": null,
      "justify_content": null,
      "justify_items": null,
      "left": null,
      "margin": null,
      "max_height": null,
      "max_width": null,
      "min_height": null,
      "min_width": null,
      "object_fit": null,
      "object_position": null,
      "order": null,
      "overflow": null,
      "overflow_x": null,
      "overflow_y": null,
      "padding": null,
      "right": null,
      "top": null,
      "visibility": null,
      "width": null
     }
    },
    "f80cfafa2a224cf9a6a4d7f44f728462": {
     "model_module": "@jupyter-widgets/base",
     "model_module_version": "1.2.0",
     "model_name": "LayoutModel",
     "state": {
      "_model_module": "@jupyter-widgets/base",
      "_model_module_version": "1.2.0",
      "_model_name": "LayoutModel",
      "_view_count": null,
      "_view_module": "@jupyter-widgets/base",
      "_view_module_version": "1.2.0",
      "_view_name": "LayoutView",
      "align_content": null,
      "align_items": null,
      "align_self": null,
      "border": null,
      "bottom": null,
      "display": null,
      "flex": null,
      "flex_flow": null,
      "grid_area": null,
      "grid_auto_columns": null,
      "grid_auto_flow": null,
      "grid_auto_rows": null,
      "grid_column": null,
      "grid_gap": null,
      "grid_row": null,
      "grid_template_areas": null,
      "grid_template_columns": null,
      "grid_template_rows": null,
      "height": null,
      "justify_content": null,
      "justify_items": null,
      "left": null,
      "margin": null,
      "max_height": null,
      "max_width": null,
      "min_height": null,
      "min_width": null,
      "object_fit": null,
      "object_position": null,
      "order": null,
      "overflow": null,
      "overflow_x": null,
      "overflow_y": null,
      "padding": null,
      "right": null,
      "top": null,
      "visibility": null,
      "width": null
     }
    },
    "f9ddad1eb71440a28656d82d5a9c0570": {
     "model_module": "@jupyter-widgets/controls",
     "model_module_version": "1.5.0",
     "model_name": "DescriptionStyleModel",
     "state": {
      "_model_module": "@jupyter-widgets/controls",
      "_model_module_version": "1.5.0",
      "_model_name": "DescriptionStyleModel",
      "_view_count": null,
      "_view_module": "@jupyter-widgets/base",
      "_view_module_version": "1.2.0",
      "_view_name": "StyleView",
      "description_width": ""
     }
    },
    "fbe7793d2c6f4eb78dd5b3de2a48674b": {
     "model_module": "@jupyter-widgets/base",
     "model_module_version": "1.2.0",
     "model_name": "LayoutModel",
     "state": {
      "_model_module": "@jupyter-widgets/base",
      "_model_module_version": "1.2.0",
      "_model_name": "LayoutModel",
      "_view_count": null,
      "_view_module": "@jupyter-widgets/base",
      "_view_module_version": "1.2.0",
      "_view_name": "LayoutView",
      "align_content": null,
      "align_items": null,
      "align_self": null,
      "border": null,
      "bottom": null,
      "display": null,
      "flex": null,
      "flex_flow": null,
      "grid_area": null,
      "grid_auto_columns": null,
      "grid_auto_flow": null,
      "grid_auto_rows": null,
      "grid_column": null,
      "grid_gap": null,
      "grid_row": null,
      "grid_template_areas": null,
      "grid_template_columns": null,
      "grid_template_rows": null,
      "height": null,
      "justify_content": null,
      "justify_items": null,
      "left": null,
      "margin": null,
      "max_height": null,
      "max_width": null,
      "min_height": null,
      "min_width": null,
      "object_fit": null,
      "object_position": null,
      "order": null,
      "overflow": null,
      "overflow_x": null,
      "overflow_y": null,
      "padding": null,
      "right": null,
      "top": null,
      "visibility": null,
      "width": null
     }
    },
    "ff33a4520b224ec29571558206271be0": {
     "model_module": "@jupyter-widgets/controls",
     "model_module_version": "1.5.0",
     "model_name": "ProgressStyleModel",
     "state": {
      "_model_module": "@jupyter-widgets/controls",
      "_model_module_version": "1.5.0",
      "_model_name": "ProgressStyleModel",
      "_view_count": null,
      "_view_module": "@jupyter-widgets/base",
      "_view_module_version": "1.2.0",
      "_view_name": "StyleView",
      "bar_color": null,
      "description_width": ""
     }
    }
   }
  }
 },
 "nbformat": 4,
 "nbformat_minor": 5
}
